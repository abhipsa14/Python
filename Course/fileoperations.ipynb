{
 "cells": [
  {
   "cell_type": "markdown",
   "id": "cd999c4b",
   "metadata": {},
   "source": [
    "File operations\n",
    "File handling is a crucial part of any programming language. Python provides built-in functions and methods to read from andwrite to files, both text and binary.This lesson will cover the basics of file handling,including reading and wriitng text files and binary files."
   ]
  },
  {
   "cell_type": "code",
   "execution_count": 2,
   "id": "377998c7",
   "metadata": {},
   "outputs": [
    {
     "name": "stdout",
     "output_type": "stream",
     "text": [
      "hi, i am abhipsa \n",
      "how are you\n",
      "what is ur name\n",
      "i am fine\n",
      "i am anshika\n"
     ]
    }
   ],
   "source": [
    "## read and whole file\n",
    "with open('examples.txt', 'r') as file:\n",
    "    content=file.read()\n",
    "    print(content)"
   ]
  },
  {
   "cell_type": "code",
   "execution_count": 4,
   "metadata": {},
   "outputs": [
    {
     "name": "stdout",
     "output_type": "stream",
     "text": [
      "hi, i am abhipsa\n",
      "how are you\n",
      "what is ur name\n",
      "i am fine\n",
      "i am anshika\n"
     ]
    }
   ],
   "source": [
    "## read line by line\n",
    "with open('examples.txt','r') as file:\n",
    "    for line in file:\n",
    "        print(line.strip()) ## strip() removes new line character"
   ]
  },
  {
   "cell_type": "code",
   "execution_count": 5,
   "metadata": {},
   "outputs": [],
   "source": [
    "## writing a file \n",
    "with open('examples.txt', 'w') as file:\n",
    "    file.write(\"hello\")"
   ]
  },
  {
   "cell_type": "code",
   "execution_count": 8,
   "metadata": {},
   "outputs": [],
   "source": [
    "## wrtie a file without overwrting\n",
    "with open('examples.txt', 'a') as file:\n",
    "    file.write(\"Appending operation tkaing place!\\n\")"
   ]
  },
  {
   "cell_type": "code",
   "execution_count": 9,
   "metadata": {},
   "outputs": [],
   "source": [
    "###writing a list of line to a file\n",
    "lines=[\"files are files\\n\",\"hi myself abhi\\n\", \"third line\\n\"]\n",
    "with open('examples.txt','a') as file:\n",
    "    file.writelines(lines)"
   ]
  },
  {
   "cell_type": "code",
   "execution_count": 12,
   "metadata": {},
   "outputs": [],
   "source": [
    "## binary files\n",
    "\n",
    "## writing to a binary file\n",
    "data = b'\\x00\\x01\\x02\\x03\\x04'\n",
    "with open('examples.bin','wb') as file:\n",
    "    file.write(data)"
   ]
  },
  {
   "cell_type": "code",
   "execution_count": 13,
   "metadata": {},
   "outputs": [
    {
     "name": "stdout",
     "output_type": "stream",
     "text": [
      "b'\\x00\\x01\\x02\\x03\\x04'\n"
     ]
    }
   ],
   "source": [
    "with open('examples.bin','rb') as file:\n",
    "    content=file.read()\n",
    "    print(content)"
   ]
  },
  {
   "cell_type": "code",
   "execution_count": null,
   "metadata": {},
   "outputs": [
    {
     "name": "stdout",
     "output_type": "stream",
     "text": [
      "[]\n"
     ]
    }
   ],
   "source": [
    "## read the contetn from a source text file and write to a destination.txt\n",
    "with open('examples.txt','r') as file:\n",
    "    content=file.read()\n",
    "    print(file.readlines())\n",
    "with open('dest.txt','w') as f:\n",
    "    f.write(content)"
   ]
  },
  {
   "cell_type": "code",
   "execution_count": 17,
   "id": "2ef1c2be",
   "metadata": {},
   "outputs": [
    {
     "name": "stdout",
     "output_type": "stream",
     "text": [
      "['helloAppending operation tkaing place!\\n', '\\n', 'Appending operation tkaing place!\\n', 'Appending operation tkaing place!\\n', 'files are files\\n', 'hi myself abhi\\n', 'third line\\n']\n"
     ]
    }
   ],
   "source": [
    "with open('examples.txt','r') as file:\n",
    "    content=file.readlines()\n",
    "    print(content)"
   ]
  },
  {
   "cell_type": "code",
   "execution_count": 18,
   "metadata": {},
   "outputs": [
    {
     "name": "stdout",
     "output_type": "stream",
     "text": [
      "lines:7,words:20,characters:150\n"
     ]
    }
   ],
   "source": [
    "## read a text file and count the number of lines, words and characters \n",
    "## counting lines, words and characters in a text file\n",
    "def count_text_file(file_path):\n",
    "    with open(file_path,'r') as file:\n",
    "        lines=file.readlines()\n",
    "        line_count=len(lines)\n",
    "        word_count=sum(len(line.split())for line in lines)\n",
    "        char_count=sum(len(line)for line in lines)\n",
    "    return line_count,word_count,char_count\n",
    "file_path='examples.txt'\n",
    "lines,words,characters = count_text_file(file_path)\n",
    "print(f\"lines:{lines},words:{words},characters:{characters}\")"
   ]
  },
  {
   "cell_type": "code",
   "execution_count": 23,
   "metadata": {},
   "outputs": [
    {
     "name": "stdout",
     "output_type": "stream",
     "text": [
      "hello\n",
      "i am abhipsa\n",
      "\n"
     ]
    }
   ],
   "source": [
    "## writing and then reading a file\n",
    "with open('examples.txt',\"w+\") as file:\n",
    "    file.write(\"hello\\n\")\n",
    "    file.write(\"i am abhipsa\\n\")\n",
    "    ## moving the cursor to first position\n",
    "    file.seek(0)\n",
    "    content=file.read()\n",
    "    print(content)"
   ]
  },
  {
   "cell_type": "code",
   "execution_count": 25,
   "metadata": {},
   "outputs": [
    {
     "name": "stdout",
     "output_type": "stream",
     "text": [
      "Directory package created!\n"
     ]
    }
   ],
   "source": [
    "## create a new_directory\n",
    "import os\n",
    "new_direc = \"package\"\n",
    "os.mkdir(new_direc)\n",
    "print(f\"Directory {new_direc} created!\")"
   ]
  },
  {
   "cell_type": "code",
   "execution_count": 31,
   "metadata": {},
   "outputs": [
    {
     "name": "stdout",
     "output_type": "stream",
     "text": [
      "['Pythonbasics', 'ControlFlow', 'datastructures', 'functions', 'modules', 'fileoperations.ipynb', 'examples.txt', 'examples.bin', 'dest.txt', 'package']\n"
     ]
    }
   ],
   "source": [
    "## listing files and directories\n",
    "items=os.listdir('.')\n",
    "print(items)"
   ]
  },
  {
   "cell_type": "code",
   "execution_count": 33,
   "metadata": {},
   "outputs": [
    {
     "name": "stdout",
     "output_type": "stream",
     "text": [
      "folder/file.txt\n"
     ]
    }
   ],
   "source": [
    "## joining paths\n",
    "dir_name=\"folder\"\n",
    "file_name=\"file.txt\"\n",
    "full_path=os.path.join(dir_name,file_name)\n",
    "print(full_path)"
   ]
  },
  {
   "cell_type": "code",
   "execution_count": 34,
   "metadata": {},
   "outputs": [
    {
     "name": "stdout",
     "output_type": "stream",
     "text": [
      "/home/whyabhipsa/Python/Course/folder/file.txt\n"
     ]
    }
   ],
   "source": [
    "dir_name=\"folder\"\n",
    "file_name=\"file.txt\"\n",
    "full_path=os.path.join(os.getcwd(),dir_name,file_name)\n",
    "print(full_path)"
   ]
  },
  {
   "cell_type": "code",
   "execution_count": 36,
   "metadata": {},
   "outputs": [
    {
     "name": "stdout",
     "output_type": "stream",
     "text": [
      "example1.txt does not exists\n"
     ]
    }
   ],
   "source": [
    "path=\"example1.txt\"\n",
    "if os.path.exists(path):\n",
    "    print(f\"The path '{path}' exists\")\n",
    "else:\n",
    "    print(f\"{path} does not exists\")\n"
   ]
  },
  {
   "cell_type": "code",
   "execution_count": 40,
   "metadata": {},
   "outputs": [
    {
     "name": "stdout",
     "output_type": "stream",
     "text": [
      "The path 'package' is a directory.\n"
     ]
    }
   ],
   "source": [
    "## checking if a path is a file directory\n",
    "path='package'\n",
    "if os.path.isfile(path):\n",
    "    print(f\"The path '{path}' is a file\")\n",
    "elif os.path.isdir(path):\n",
    "    print(f\"The path '{path}' is a directory.\")\n",
    "else:\n",
    "    print(f\"The path '{path}' is neihter a file nor a directory\")"
   ]
  },
  {
   "cell_type": "code",
   "execution_count": 41,
   "metadata": {},
   "outputs": [
    {
     "name": "stdout",
     "output_type": "stream",
     "text": [
      "/home/whyabhipsa/Python/Course/examples.txt\n"
     ]
    }
   ],
   "source": [
    "## getting the absolute path\n",
    "relative_path='examples.txt'\n",
    "absolute_path=os.path.abspath(relative_path)\n",
    "print(absolute_path)\n"
   ]
  }
 ],
 "metadata": {
  "kernelspec": {
   "display_name": "Python 3",
   "language": "python",
   "name": "python3"
  },
  "language_info": {
   "codemirror_mode": {
    "name": "ipython",
    "version": 3
   },
   "file_extension": ".py",
   "mimetype": "text/x-python",
   "name": "python",
   "nbconvert_exporter": "python",
   "pygments_lexer": "ipython3",
   "version": "3.13.5"
  }
 },
 "nbformat": 4,
 "nbformat_minor": 5
}
