{
 "cells": [
  {
   "cell_type": "markdown",
   "id": "4979e6c1",
   "metadata": {},
   "source": [
    "   \"1. Introduction to Loops\\n\",\n",
    "    \"2. for Loop\\n\",\n",
    "    \"   - Iterating over a range\\n\",\n",
    "    \"   - Iterating over a string\\n\",\n",
    "    \"\\n\",\n",
    "    \"3. while Loop\\n\",\n",
    "    \"4. Loop Control Statements\\n\",\n",
    "    \"    - break\\n\",\n",
    "    \"    - continue\\n\",\n",
    "    \"    - pass\\n\",\n",
    "    \"5. Nested Loops\\n\",\n",
    "    \"6. Practical Examples and Common Errors\""
   ]
  },
  {
   "cell_type": "code",
   "execution_count": 18,
   "id": "90d643f0",
   "metadata": {},
   "outputs": [
    {
     "data": {
      "text/plain": [
       "range(0, 5)"
      ]
     },
     "execution_count": 18,
     "metadata": {},
     "output_type": "execute_result"
    }
   ],
   "source": [
    "range(5)"
   ]
  },
  {
   "cell_type": "code",
   "execution_count": 19,
   "id": "144f7f99",
   "metadata": {},
   "outputs": [
    {
     "name": "stdout",
     "output_type": "stream",
     "text": [
      "0\n",
      "1\n",
      "2\n",
      "3\n",
      "4\n"
     ]
    }
   ],
   "source": [
    "## for loop\n",
    "for i in range(5):\n",
    "    print(i)"
   ]
  },
  {
   "cell_type": "code",
   "execution_count": 20,
   "id": "dc2cd844",
   "metadata": {},
   "outputs": [
    {
     "name": "stdout",
     "output_type": "stream",
     "text": [
      "1\n",
      "2\n",
      "3\n",
      "4\n",
      "5\n"
     ]
    }
   ],
   "source": [
    "for i in range(1,6):    \n",
    "    print(i)"
   ]
  },
  {
   "cell_type": "code",
   "execution_count": 21,
   "id": "8525e0ba",
   "metadata": {},
   "outputs": [
    {
     "name": "stdout",
     "output_type": "stream",
     "text": [
      "1\n",
      "3\n",
      "5\n",
      "7\n",
      "9\n"
     ]
    }
   ],
   "source": [
    "range(1,10,1) ## start, stop, step\n",
    "for i in range(1,10,2):\n",
    "    print(i)"
   ]
  },
  {
   "cell_type": "code",
   "execution_count": 22,
   "id": "b9dee64d",
   "metadata": {},
   "outputs": [
    {
     "name": "stdout",
     "output_type": "stream",
     "text": [
      "10\n",
      "9\n",
      "8\n",
      "7\n",
      "6\n",
      "5\n",
      "4\n",
      "3\n",
      "2\n",
      "1\n"
     ]
    }
   ],
   "source": [
    "for i in range(10,0,-1):\n",
    "    print(i)    "
   ]
  },
  {
   "cell_type": "code",
   "execution_count": 23,
   "id": "33c313f8",
   "metadata": {},
   "outputs": [
    {
     "name": "stdout",
     "output_type": "stream",
     "text": [
      "hello"
     ]
    }
   ],
   "source": [
    "## strings\n",
    "for i in \"hello\":\n",
    "    print(i,sep=\"\",end=\"\")"
   ]
  },
  {
   "cell_type": "code",
   "execution_count": 24,
   "metadata": {},
   "outputs": [
    {
     "name": "stdout",
     "output_type": "stream",
     "text": [
      "0\n",
      "1\n",
      "2\n",
      "3\n",
      "4\n"
     ]
    }
   ],
   "source": [
    "## while loop\n",
    "## this continues to execute as long as the condition is true\n",
    "count=0\n",
    "while count < 5:\n",
    "    print(count)\n",
    "    count += 1"
   ]
  },
  {
   "cell_type": "code",
   "execution_count": 25,
   "id": "7b71c398",
   "metadata": {},
   "outputs": [
    {
     "name": "stdout",
     "output_type": "stream",
     "text": [
      "0\n"
     ]
    }
   ],
   "source": [
    "count=0\n",
    "while count%2==0:\n",
    "    print(count)\n",
    "    count += 1\n",
    "    if count == 10:\n",
    "        break"
   ]
  },
  {
   "cell_type": "markdown",
   "id": "00aad470",
   "metadata": {},
   "source": [
    "## loop control statements\n",
    "break - exit the loop\n",
    "\n",
    "continue - skip the rest of the code in the loop and continue with the next iteration\n",
    "\n",
    "pass - do nothing, used as a placeholder"
   ]
  },
  {
   "cell_type": "code",
   "execution_count": 26,
   "id": "2f42b82f",
   "metadata": {},
   "outputs": [
    {
     "name": "stdout",
     "output_type": "stream",
     "text": [
      "0\n",
      "1\n",
      "2\n",
      "3\n",
      "4\n"
     ]
    }
   ],
   "source": [
    "## break statement\n",
    "for i in range(10):\n",
    "    if i==5:\n",
    "        break\n",
    "    print(i)"
   ]
  },
  {
   "cell_type": "code",
   "execution_count": 27,
   "id": "023f1343",
   "metadata": {},
   "outputs": [
    {
     "name": "stdout",
     "output_type": "stream",
     "text": [
      "1\n",
      "3\n",
      "5\n",
      "7\n",
      "9\n"
     ]
    }
   ],
   "source": [
    "## continue statement\n",
    "for i in range(10):\n",
    "    if i%2==0:\n",
    "        continue\n",
    "    print(i)"
   ]
  },
  {
   "cell_type": "code",
   "execution_count": null,
   "id": "fbd9dcb6",
   "metadata": {},
   "outputs": [
    {
     "name": "stdout",
     "output_type": "stream",
     "text": [
      "0\n",
      "1\n",
      "2\n",
      "3\n",
      "4\n",
      "5\n",
      "6\n",
      "7\n",
      "8\n",
      "9\n"
     ]
    }
   ],
   "source": [
    "## pass statement\n",
    "for i in range(10):\n",
    "    if i==3:\n",
    "        pass  \n",
    "    print(i)"
   ]
  },
  {
   "cell_type": "code",
   "execution_count": null,
   "id": "ce5c7804",
   "metadata": {},
   "outputs": [
    {
     "name": "stdout",
     "output_type": "stream",
     "text": [
      "i=0 and j=0\n",
      "i=0 and j=1\n",
      "i=1 and j=0\n",
      "i=1 and j=1\n",
      "i=2 and j=0\n",
      "i=2 and j=1\n"
     ]
    }
   ],
   "source": [
    "## Nested loops\n",
    "## A nested loop is a loop inside another loop\n",
    "for i in range(3):\n",
    "    for j in range(2):\n",
    "        print(f\"i={i} and j={j}\")"
   ]
  },
  {
   "cell_type": "code",
   "execution_count": null,
   "id": "d5bcda60",
   "metadata": {},
   "outputs": [
    {
     "name": "stdout",
     "output_type": "stream",
     "text": [
      "The sum of the first n natural numbers is 55\n"
     ]
    }
   ],
   "source": [
    "## calculate the sum of fiart n nautral numbers\n",
    "n=int(input(\"Enter a number:\"))\n",
    "sum=0\n",
    "while n>0:\n",
    "    sum+=n\n",
    "    n=n-1\n",
    "print(f\"The sum of the first n natural numbers is {sum}\")"
   ]
  },
  {
   "cell_type": "code",
   "execution_count": 34,
   "id": "f4e5931f",
   "metadata": {},
   "outputs": [
    {
     "name": "stdout",
     "output_type": "stream",
     "text": [
      "The sum of the first n natural numbers is 55\n"
     ]
    }
   ],
   "source": [
    "## using for loop\n",
    "n = int(input(\"Enter a number:\"))\n",
    "sum=0\n",
    "for i in range(1,n+1):\n",
    "    sum+=i\n",
    "print(f\"The sum of the first n natural numbers is {sum}\")"
   ]
  },
  {
   "cell_type": "code",
   "execution_count": null,
   "id": "9a54b844",
   "metadata": {},
   "outputs": [
    {
     "name": "stdout",
     "output_type": "stream",
     "text": [
      "2\n",
      "3\n",
      "5\n",
      "7\n",
      "11\n",
      "13\n",
      "17\n",
      "19\n",
      "23\n",
      "29\n",
      "31\n",
      "37\n",
      "41\n",
      "43\n",
      "47\n",
      "53\n",
      "59\n",
      "61\n",
      "67\n",
      "71\n",
      "73\n",
      "79\n",
      "83\n",
      "89\n",
      "97\n"
     ]
    }
   ],
   "source": [
    "## Prime numbers between 1 and 100\n",
    "for num in range(1,100):\n",
    "    if(num>1):\n",
    "        for i in range(2,num):\n",
    "            if(num%i==0):\n",
    "                break\n",
    "        else: ## In Python, the else block after a for loop runs only if the loop wasn’t broken\n",
    "            print(num)"
   ]
  },
  {
   "cell_type": "markdown",
   "id": "0e51c3e2",
   "metadata": {},
   "source": [
    "Loops are powerful constructs in python that allow you to execute a block of code multiple times. By understanding and using for and while loops, along with loop control statements like break, continue and pass you can handle a wide range of programming taks efficiently."
   ]
  },
  {
   "cell_type": "code",
   "execution_count": 33,
   "id": "089da2dd",
   "metadata": {},
   "outputs": [
    {
     "data": {
      "text/plain": [
       "55"
      ]
     },
     "execution_count": 33,
     "metadata": {},
     "output_type": "execute_result"
    }
   ],
   "source": [
    "1+2+3+4+5+6+7+8+9+10"
   ]
  }
 ],
 "metadata": {
  "kernelspec": {
   "display_name": "Python 3",
   "language": "python",
   "name": "python3"
  },
  "language_info": {
   "codemirror_mode": {
    "name": "ipython",
    "version": 3
   },
   "file_extension": ".py",
   "mimetype": "text/x-python",
   "name": "python",
   "nbconvert_exporter": "python",
   "pygments_lexer": "ipython3",
   "version": "3.13.3"
  }
 },
 "nbformat": 4,
 "nbformat_minor": 5
}
