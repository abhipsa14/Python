{
 "cells": [
  {
   "cell_type": "markdown",
   "id": "030d8a8d",
   "metadata": {},
   "source": [
    "1. if statement\n",
    "2. else statement\n",
    "3. elif statement\n",
    "4. nested conditional statement\n",
    "5. practical examples\n",
    "6. common errors and best practices"
   ]
  },
  {
   "cell_type": "code",
   "execution_count": 1,
   "id": "43642cd8",
   "metadata": {},
   "outputs": [
    {
     "name": "stdout",
     "output_type": "stream",
     "text": [
      "You are an adult\n"
     ]
    }
   ],
   "source": [
    "## if statements\n",
    "# if statements are used to execute code conditionally\n",
    "age=20\n",
    "if age>=18:\n",
    "    print(\"You are an adult\")"
   ]
  },
  {
   "cell_type": "code",
   "execution_count": 2,
   "id": "494b3b9d",
   "metadata": {},
   "outputs": [],
   "source": [
    "age=16"
   ]
  },
  {
   "cell_type": "code",
   "execution_count": 3,
   "id": "b4300558",
   "metadata": {},
   "outputs": [
    {
     "name": "stdout",
     "output_type": "stream",
     "text": [
      "You are a minor\n"
     ]
    }
   ],
   "source": [
    "## else\n",
    "## else statements are used to execute code when the if condition is not met\n",
    "if age<18:\n",
    "    print(\"You are a minor\")\n",
    "else:\n",
    "    print(\"You are an adult\")"
   ]
  },
  {
   "cell_type": "code",
   "execution_count": 4,
   "id": "e52d3bcb",
   "metadata": {},
   "outputs": [
    {
     "name": "stdout",
     "output_type": "stream",
     "text": [
      "You are a senior citizen\n"
     ]
    }
   ],
   "source": [
    "## elif\n",
    "## the elif statement is used to check multiple conditions\n",
    "age=98\n",
    "if age<13:\n",
    "    print(\"You are a child\")\n",
    "elif age<18:\n",
    "    print(\"You are a teenager\")\n",
    "elif age<65:\n",
    "    print(\"You are an adult\")\n",
    "else:\n",
    "    print(\"You are a senior citizen\")"
   ]
  },
  {
   "cell_type": "code",
   "execution_count": 5,
   "id": "12554e07",
   "metadata": {},
   "outputs": [
    {
     "name": "stdout",
     "output_type": "stream",
     "text": [
      "The number is positive.\n",
      "The number is even.\n"
     ]
    }
   ],
   "source": [
    "## nested condiational statements\n",
    "## you can nest if statements inside other if statements\n",
    "## or elif or else statements\n",
    "## number even, odd or negative\n",
    "num=int(input(\"Enter a number: \"))\n",
    "if num >0:\n",
    "    print(\"The number is positive.\")\n",
    "    if num%2==0:\n",
    "        print(\"The number is even.\")\n",
    "    else:\n",
    "        print(\"The number is odd.\")\n",
    "else:\n",
    "    print(\"The number is negative or zero.\")\n",
    "    if num%2==0:\n",
    "        print(\"The number is even.\")\n",
    "    else:\n",
    "        print(\"The number is odd.\")"
   ]
  },
  {
   "cell_type": "code",
   "execution_count": 6,
   "id": "90ae5349",
   "metadata": {},
   "outputs": [
    {
     "name": "stdout",
     "output_type": "stream",
     "text": [
      "You entered an even number.\n"
     ]
    }
   ],
   "source": [
    "## usescases\n",
    "# 1. Checking user input\n",
    "user_input = input(\"Enter a number: \")\n",
    "if user_input.isdigit():\n",
    "    number = int(user_input)\n",
    "    if number % 2 == 0:\n",
    "        print(\"You entered an even number.\")\n",
    "    else:\n",
    "        print(\"You entered an odd number.\")\n",
    "else:\n",
    "    print(\"That's not a valid number.\")"
   ]
  },
  {
   "cell_type": "code",
   "execution_count": 7,
   "id": "21cf3858",
   "metadata": {},
   "outputs": [
    {
     "name": "stdout",
     "output_type": "stream",
     "text": [
      "200 is not a leap year.\n"
     ]
    }
   ],
   "source": [
    "## determine if a year is a leap year using condition statemnts.\n",
    "year=int(input(\"Enter a year: \")   )\n",
    "if(year%4==0 and year%100!=0) or (year%400==0):\n",
    "    print(f\"{year} is a leap year.\")\n",
    "else:\n",
    "    print(f\"{year} is not a leap year.\")"
   ]
  },
  {
   "cell_type": "code",
   "execution_count": 8,
   "id": "74ce0f74",
   "metadata": {},
   "outputs": [
    {
     "name": "stdout",
     "output_type": "stream",
     "text": [
      "200 is not a leap year.\n"
     ]
    }
   ],
   "source": [
    "year=int(input(\"Enter a year: \")   )\n",
    "if(year%4==0):\n",
    "    if(year%100==0):\n",
    "        if(year%400==0):\n",
    "            print(year, \"is a leap year.\")\n",
    "        else:\n",
    "            print(year, \"is not a leap year.\")\n",
    "    else:\n",
    "        print(year, \"is a leap year.\")\n",
    "else:\n",
    "    print(year, \"is not a leap year.\")"
   ]
  },
  {
   "cell_type": "code",
   "execution_count": 9,
   "id": "13ef3f6e",
   "metadata": {},
   "outputs": [],
   "source": [
    "## common errors\n",
    "# 1. IndentationError: This error occurs when the code is not properly indented\n",
    "#    in Python, indentation is used to define the scope of the code blocks. \n",
    "#    Make sure that all the code inside the if, elif, else blocks is indented consistently.\n",
    "# 2. SyntaxError: This error occurs when there is a syntax error in the code\n",
    "#    such as a missing colon (:) at the end of the if, elif, or\n",
    "#    else statement. Make sure that all the statements are properly formatted.      \n",
    "# 3. NameError: This error occurs when a variable is not defined before it is used.\n",
    "#    Make sure that all the variables are defined before they are used in the if, elif\n",
    "#    or else statements.\n",
    "# 4. TypeError: This error occurs when the code tries to perform an operation on\n",
    "#    a variable of an incompatible type. For example, trying to compare a string with an\n",
    "#    integer. Make sure that all the variables are of the correct type before they are used\n",
    "#    in the if, elif, or else statements.\n",
    "# 5. ValueError: This error occurs when a function receives an argument of the correct\n",
    "#    type but an inappropriate value. For example, trying to convert a string that does not\n",
    "#    represent a number to an integer. Make sure that all the values are of the correct\n",
    "#    type before they are used in the if, elif, or else statements."
   ]
  },
  {
   "cell_type": "code",
   "execution_count": 10,
   "id": "8c7f216b",
   "metadata": {},
   "outputs": [
    {
     "name": "stdout",
     "output_type": "stream",
     "text": [
      "The result of 2 / 3 is: 0.6666666666666666\n"
     ]
    }
   ],
   "source": [
    "## Assignments\n",
    "## simple calculator\n",
    "\n",
    "num1=int(input(\"Enter first number:\"))\n",
    "num2=int(input(\"Enter second number:\"))\n",
    "operation=input(\"Enter operation (+, -, *, /):\")\n",
    "\n",
    "##perform the operation\n",
    "if operation == '+':\n",
    "    result=num1+num2\n",
    "elif operation=='-':\n",
    "    result=num1-num2\n",
    "elif operation=='*':\n",
    "    result=num1*num2\n",
    "elif operation=='/':\n",
    "    if num2!=0:\n",
    "        result=num1/num2\n",
    "    else:\n",
    "        result=\"Error: Division by zero is not allowed.\"\n",
    "else:\n",
    "    result=\"Error: Invalid operation.\"\n",
    "print(f\"The result of {num1} {operation} {num2} is: {result}\")"
   ]
  },
  {
   "cell_type": "code",
   "execution_count": 13,
   "id": "9325f624",
   "metadata": {},
   "outputs": [
    {
     "name": "stdout",
     "output_type": "stream",
     "text": [
      "Your ticket price is: $10.00\n"
     ]
    }
   ],
   "source": [
    "## determine the ticket price based on age and wheter the person is a student.\n",
    "# ticket pricing based on age and student status\n",
    "age=int(input(\"Enter your age: \"))\n",
    "is_student=input(\"Are you a student? (yes/no): \").lower()\n",
    "if age < 12:\n",
    "    ticket_price = 5.0  # Child ticket price\n",
    "elif age < 60:\n",
    "    ticket_price = 10.0  # Adult ticket price\n",
    "else:\n",
    "    ticket_price = 7.0  # Senior ticket price\n",
    "print(f\"Your ticket price is: ${ticket_price:.2f}\")\n"
   ]
  },
  {
   "cell_type": "code",
   "execution_count": null,
   "id": "b30f90eb",
   "metadata": {},
   "outputs": [],
   "source": []
  },
  {
   "cell_type": "code",
   "execution_count": null,
   "id": "1a6eb9d9",
   "metadata": {},
   "outputs": [],
   "source": []
  }
 ],
 "metadata": {
  "kernelspec": {
   "display_name": "Python 3",
   "language": "python",
   "name": "python3"
  },
  "language_info": {
   "codemirror_mode": {
    "name": "ipython",
    "version": 3
   },
   "file_extension": ".py",
   "mimetype": "text/x-python",
   "name": "python",
   "nbconvert_exporter": "python",
   "pygments_lexer": "ipython3",
   "version": "3.13.3"
  }
 },
 "nbformat": 4,
 "nbformat_minor": 5
}
