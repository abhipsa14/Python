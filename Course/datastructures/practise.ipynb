{
 "cells": [
  {
   "cell_type": "markdown",
   "id": "7263b49f",
   "metadata": {},
   "source": [
    "Example1. Manage a TO DO list\n",
    "- create a to do list to keep track of all the tasks"
   ]
  },
  {
   "cell_type": "code",
   "execution_count": 3,
   "id": "eab6e53b",
   "metadata": {},
   "outputs": [
    {
     "name": "stdout",
     "output_type": "stream",
     "text": [
      "To Do List:\n",
      "- Buy Groceries\n",
      "- Complete Python assignment\n",
      "- Call Mom\n",
      "- Read a book\n",
      "- Exercise\n",
      "- Clean the house\n",
      "To Do List:\n",
      "- Buy Groceries\n",
      "- Complete Python assignment\n",
      "- Read a book\n",
      "- Exercise\n",
      "- Clean the house\n",
      "'Complete Python assignment' is in the to do list.\n",
      "There are 5 tasks in the to do list.\n"
     ]
    }
   ],
   "source": [
    "to_do_list=[\"Buy Groceries\", \"Complete Python assignment\", \"Call Mom\", \"Read a book\"]\n",
    "## adding a task\n",
    "to_do_list.append(\"Exercise\")\n",
    "to_do_list.append(\"Clean the house\")\n",
    "print(\"To Do List:\")\n",
    "for task in to_do_list:\n",
    "    print(f\"- {task}\")\n",
    "## removing a task\n",
    "to_do_list.remove(\"Call Mom\")\n",
    "## displaying the to do list\n",
    "print(\"To Do List:\")\n",
    "for task in to_do_list:\n",
    "    print(f\"- {task}\")\n",
    "## checking if a task is in the list\n",
    "task_to_check = \"Complete Python assignment\"\n",
    "if task_to_check in to_do_list:\n",
    "    print(f\"'{task_to_check}' is in the to do list.\")\n",
    "else:\n",
    "    print(f\"'{task_to_check}' is not in the to do list.\")\n",
    "## counting tasks in the list\n",
    "task_count = len(to_do_list)\n",
    "print(f\"There are {task_count} tasks in the to do list.\")\n"
   ]
  },
  {
   "cell_type": "markdown",
   "id": "e761bc69",
   "metadata": {},
   "source": [
    "Example2. Organizing the student grades"
   ]
  },
  {
   "cell_type": "code",
   "execution_count": 4,
   "metadata": {},
   "outputs": [
    {
     "name": "stdout",
     "output_type": "stream",
     "text": [
      "Average grade: 88.33\n",
      "Highest grade: 97\n",
      "Lowest grade: 78\n"
     ]
    }
   ],
   "source": [
    "## Organizing student grades\n",
    "grades=[85,97,78,90,88]\n",
    "## adding a grade\n",
    "grades.append(92)\n",
    "##calculating average grade\n",
    "average_grade = sum(grades) / len(grades)\n",
    "print(f\"Average grade: {average_grade:.2f}\")\n",
    "## finding the highest and lowest grades\n",
    "highest_grade = max(grades)\n",
    "lowest_grade = min(grades)\n",
    "print(f\"Highest grade: {highest_grade}\")\n",
    "print(f\"Lowest grade: {lowest_grade}\")"
   ]
  },
  {
   "cell_type": "markdown",
   "id": "70102c6e",
   "metadata": {},
   "source": [
    "Example3. Managing an inventory"
   ]
  },
  {
   "cell_type": "code",
   "execution_count": 5,
   "metadata": {},
   "outputs": [
    {
     "name": "stdout",
     "output_type": "stream",
     "text": [
      "oranges is in the inventory.\n",
      "Current Inventory:\n",
      "- apples\n",
      "- oranges\n",
      "- grapes\n",
      "- pears\n"
     ]
    }
   ],
   "source": [
    "inventory=['apples','bananas','oranges','grapes']\n",
    "## adding an item to the inventory\n",
    "inventory.append('pears')\n",
    "## removing an item from the inventory\n",
    "inventory.remove('bananas')\n",
    "## checking if an item is in the inventory\n",
    "item_to_check = 'oranges'\n",
    "if item_to_check in inventory:\n",
    "    print(f\"{item_to_check} is in the inventory.\")\n",
    "else:\n",
    "    print(f\"{item_to_check} is not in the inventory.\")\n",
    "## displaying the inventory\n",
    "print(\"Current Inventory:\")\n",
    "for item in inventory:\n",
    "    print(f\"- {item}\")"
   ]
  },
  {
   "cell_type": "markdown",
   "id": "b78163c9",
   "metadata": {},
   "source": [
    "Example4. Collecting users feedback\n",
    "- use a list to collect and analyse user feedback"
   ]
  },
  {
   "cell_type": "code",
   "execution_count": 6,
   "metadata": {},
   "outputs": [
    {
     "name": "stdout",
     "output_type": "stream",
     "text": [
      "Total positive feedback: 1\n",
      "User Feedback:\n",
      "- Great service!\n",
      "- Very satisfied\n",
      "- Could be better\n",
      "- Loved the product!\n",
      "- Will recommend to others\n",
      "- not satisfied\n"
     ]
    }
   ],
   "source": [
    "## collecting user feedback\n",
    "feedback = ['Great service!', 'Very satisfied', 'Could be better', 'Loved the product!']\n",
    "## adding feedback\n",
    "feedback.append('Will recommend to others')\n",
    "feedback.append('not satisfied')\n",
    "positive_feedback=sum(1 for f in feedback if 'great' in f.lower() or 'excellent' in f.lower())\n",
    "print(f\"Total positive feedback: {positive_feedback}\")\n",
    "## displaying all feedback\n",
    "print(\"User Feedback:\")\n",
    "for f in feedback:\n",
    "    print(f\"- {f}\")"
   ]
  }
 ],
 "metadata": {
  "kernelspec": {
   "display_name": "Python 3",
   "language": "python",
   "name": "python3"
  },
  "language_info": {
   "codemirror_mode": {
    "name": "ipython",
    "version": 3
   },
   "file_extension": ".py",
   "mimetype": "text/x-python",
   "name": "python",
   "nbconvert_exporter": "python",
   "pygments_lexer": "ipython3",
   "version": "3.13.5"
  }
 },
 "nbformat": 4,
 "nbformat_minor": 5
}
