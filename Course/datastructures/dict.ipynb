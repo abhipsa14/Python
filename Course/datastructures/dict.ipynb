{
 "cells": [
  {
   "cell_type": "markdown",
   "id": "9d1db723",
   "metadata": {},
   "source": [
    "Dictionary are unordered collections of items. They store data in key-value pairs. keys must be unique and immutable(eg. strings, numbers, or tuples), while values can be of any type."
   ]
  },
  {
   "cell_type": "code",
   "execution_count": 2,
   "id": "af705095",
   "metadata": {},
   "outputs": [
    {
     "name": "stdout",
     "output_type": "stream",
     "text": [
      "<class 'dict'>\n",
      "<class 'dict'>\n",
      "<class 'dict'>\n"
     ]
    }
   ],
   "source": [
    "## creating\n",
    "empty_dict = {}  # Using curly braces\n",
    "another_empty_dict = dict()  # Using the dict() constructor\n",
    "my_dict = {\n",
    "    'name': 'Alice',\n",
    "    'age': 30,\n",
    "    'city': 'New York'\n",
    "}\n",
    "print(type(empty_dict))  # Output: <class 'dict'>\n",
    "print(type(another_empty_dict))  # Output: <class 'dict'>\n",
    "print(type(my_dict))  # Output: <class 'dict'>"
   ]
  },
  {
   "cell_type": "code",
   "execution_count": 3,
   "id": "64c597bd",
   "metadata": {},
   "outputs": [
    {
     "data": {
      "text/plain": [
       "{'name': 'Alice', 'age': 30, 'city': 'New York'}"
      ]
     },
     "execution_count": 3,
     "metadata": {},
     "output_type": "execute_result"
    }
   ],
   "source": [
    "my_dict"
   ]
  },
  {
   "cell_type": "code",
   "execution_count": 4,
   "id": "f56940bb",
   "metadata": {},
   "outputs": [
    {
     "name": "stdout",
     "output_type": "stream",
     "text": [
      "{'name': 'Bob', 'age': 30, 'city': 'New York'}\n"
     ]
    }
   ],
   "source": [
    "## unique keys are used\n",
    "my_dict = {\n",
    "    'name': 'Alice',\n",
    "    'age': 30,\n",
    "    'city': 'New York',\n",
    "    'name': 'Bob'  # This will overwrite the previous 'name' key\n",
    "}\n",
    "print(my_dict)  # Output: {'name': 'Bob', 'age': 30, 'city': 'New York'}"
   ]
  },
  {
   "cell_type": "code",
   "execution_count": 5,
   "id": "66503960",
   "metadata": {},
   "outputs": [],
   "source": [
    "## accessing dictionary elements\n",
    "student={\"name\":\"abhipsa\",\"age\":20,\"marks\":90}"
   ]
  },
  {
   "cell_type": "code",
   "execution_count": 6,
   "id": "de11eec4",
   "metadata": {},
   "outputs": [
    {
     "name": "stdout",
     "output_type": "stream",
     "text": [
      "abhipsa\n",
      "20\n"
     ]
    }
   ],
   "source": [
    "print(student[\"name\"])  # Output: abhipsa\n",
    "print(student[\"age\"])   # Output: 20"
   ]
  },
  {
   "cell_type": "code",
   "execution_count": 7,
   "id": "ac8547db",
   "metadata": {},
   "outputs": [
    {
     "name": "stdout",
     "output_type": "stream",
     "text": [
      "abhipsa\n",
      "not found\n"
     ]
    }
   ],
   "source": [
    "## using default get method\n",
    "print(student.get(\"name\"))\n",
    "print(student.get(\"grade\",\"not found\"))"
   ]
  },
  {
   "cell_type": "code",
   "execution_count": 8,
   "id": "ed5aa0f9",
   "metadata": {},
   "outputs": [
    {
     "name": "stdout",
     "output_type": "stream",
     "text": [
      "{'name': 'abhipsa', 'age': 20, 'marks': 90}\n"
     ]
    }
   ],
   "source": [
    "## modifying dictionary elements\n",
    "## dictionary are mutable, so you can add, update or delete elements\n",
    "print(student)"
   ]
  },
  {
   "cell_type": "code",
   "execution_count": 9,
   "metadata": {},
   "outputs": [
    {
     "name": "stdout",
     "output_type": "stream",
     "text": [
      "{'name': 'abhipsa', 'age': 21, 'marks': 90}\n"
     ]
    },
    {
     "data": {
      "text/plain": [
       "{'name': 'abhipsa', 'age': 21, 'marks': 90, 'address': 'India'}"
      ]
     },
     "execution_count": 9,
     "metadata": {},
     "output_type": "execute_result"
    }
   ],
   "source": [
    "student[\"age\"]=21 ## updated value\n",
    "print(student)\n",
    "student[\"address\"]=\"India\" ##added new key-value pair\n",
    "student"
   ]
  },
  {
   "cell_type": "code",
   "execution_count": 10,
   "id": "e1adb4c4",
   "metadata": {},
   "outputs": [
    {
     "name": "stdout",
     "output_type": "stream",
     "text": [
      "{'name': 'abhipsa', 'age': 21, 'marks': 90}\n"
     ]
    }
   ],
   "source": [
    "## delete a key and value pair\n",
    "del student['address']\n",
    "print(student)"
   ]
  },
  {
   "cell_type": "code",
   "execution_count": 11,
   "id": "e00fed40",
   "metadata": {},
   "outputs": [
    {
     "name": "stdout",
     "output_type": "stream",
     "text": [
      "dict_keys(['name', 'age', 'marks'])\n"
     ]
    }
   ],
   "source": [
    "## dictionary methods\n",
    "keys=student.keys()\n",
    "print(keys)"
   ]
  },
  {
   "cell_type": "code",
   "execution_count": 12,
   "id": "3f37b767",
   "metadata": {},
   "outputs": [],
   "source": [
    "values=student.values()"
   ]
  },
  {
   "cell_type": "code",
   "execution_count": 13,
   "id": "a43a4680",
   "metadata": {},
   "outputs": [
    {
     "data": {
      "text/plain": [
       "dict_values(['abhipsa', 21, 90])"
      ]
     },
     "execution_count": 13,
     "metadata": {},
     "output_type": "execute_result"
    }
   ],
   "source": [
    "values"
   ]
  },
  {
   "cell_type": "code",
   "execution_count": 14,
   "id": "2760d9d7",
   "metadata": {},
   "outputs": [
    {
     "name": "stdout",
     "output_type": "stream",
     "text": [
      "dict_items([('name', 'abhipsa'), ('age', 21), ('marks', 90)])\n"
     ]
    }
   ],
   "source": [
    "items=student.items()\n",
    "print(items)\n",
    "## returns tuples of key-value pairs"
   ]
  },
  {
   "cell_type": "code",
   "execution_count": 15,
   "id": "628c0823",
   "metadata": {},
   "outputs": [
    {
     "name": "stdout",
     "output_type": "stream",
     "text": [
      "{'name': 'abhipsa', 'age': 21, 'marks': 90}\n",
      "{'name': 'abhipsa', 'age': 21, 'marks': 90}\n"
     ]
    }
   ],
   "source": [
    "## shallow copy\n",
    "student_copy=student\n",
    "print(student)\n",
    "print(student_copy)\n"
   ]
  },
  {
   "cell_type": "code",
   "execution_count": 16,
   "id": "8bd0348c",
   "metadata": {},
   "outputs": [
    {
     "name": "stdout",
     "output_type": "stream",
     "text": [
      "{'name': 'anshi', 'age': 21, 'marks': 90}\n",
      "{'name': 'anshi', 'age': 21, 'marks': 90}\n"
     ]
    }
   ],
   "source": [
    "student[\"name\"]=\"anshi\"\n",
    "print(student)\n",
    "print(student_copy)"
   ]
  },
  {
   "cell_type": "markdown",
   "id": "0c5e4423",
   "metadata": {},
   "source": [
    "this causes data loss, and makes it hard for further manipulation, therefore creating shallow copy will not be helpful in long way."
   ]
  },
  {
   "cell_type": "code",
   "execution_count": 17,
   "id": "406fe4cd",
   "metadata": {},
   "outputs": [
    {
     "name": "stdout",
     "output_type": "stream",
     "text": [
      "{'name': 'anshi', 'age': 21, 'marks': 90}\n"
     ]
    }
   ],
   "source": [
    "student_copy1=student.copy()\n",
    "print(student_copy1)"
   ]
  },
  {
   "cell_type": "code",
   "execution_count": 18,
   "id": "4267840c",
   "metadata": {},
   "outputs": [
    {
     "name": "stdout",
     "output_type": "stream",
     "text": [
      "{'name': 'anshi', 'age': 21, 'marks': 90}\n",
      "{'name': 'anshi', 'age': 16, 'marks': 90}\n"
     ]
    }
   ],
   "source": [
    "student[\"age\"]=16\n",
    "print(student_copy1)\n",
    "print(student)"
   ]
  },
  {
   "cell_type": "code",
   "execution_count": 19,
   "id": "d0866dec",
   "metadata": {},
   "outputs": [
    {
     "name": "stdout",
     "output_type": "stream",
     "text": [
      "name anshi\n",
      "age 16\n",
      "marks 90\n"
     ]
    }
   ],
   "source": [
    "## iterating over dictionaries\n",
    "## you can use loops to iterate over dictionaries,keys, values or items\n",
    "## iterating over keys\n",
    "for key in student.keys():\n",
    "    print(key,student[key])"
   ]
  },
  {
   "cell_type": "code",
   "execution_count": 20,
   "id": "3f0b7a3f",
   "metadata": {},
   "outputs": [
    {
     "name": "stdout",
     "output_type": "stream",
     "text": [
      "anshi\n",
      "16\n",
      "90\n"
     ]
    }
   ],
   "source": [
    "for value in student.values():\n",
    "    print(value)"
   ]
  },
  {
   "cell_type": "code",
   "execution_count": 21,
   "id": "3e555e9c",
   "metadata": {},
   "outputs": [
    {
     "name": "stdout",
     "output_type": "stream",
     "text": [
      "name anshi\n",
      "age 16\n",
      "marks 90\n"
     ]
    }
   ],
   "source": [
    "for keys, values in student.items():\n",
    "    print(keys,values)"
   ]
  },
  {
   "cell_type": "code",
   "execution_count": 1,
   "id": "03d4228f",
   "metadata": {},
   "outputs": [],
   "source": [
    "## nested dictionary\n",
    "students={\n",
    "    \"student1\":{\"name\":\"Krish\",\"age\":32},\n",
    "    \"student2\":{\"name\":\"Abhipsa\",\"age\":21}\n",
    "}"
   ]
  },
  {
   "cell_type": "code",
   "execution_count": 2,
   "metadata": {},
   "outputs": [
    {
     "name": "stdout",
     "output_type": "stream",
     "text": [
      "Krish\n"
     ]
    }
   ],
   "source": [
    "print(students[\"student1\"][\"name\"])"
   ]
  },
  {
   "cell_type": "code",
   "execution_count": 4,
   "metadata": {},
   "outputs": [
    {
     "name": "stdout",
     "output_type": "stream",
     "text": [
      "student1 {'name': 'Krish', 'age': 32}\n",
      "name Krish\n",
      "age 32\n",
      "student2 {'name': 'Abhipsa', 'age': 21}\n",
      "name Abhipsa\n",
      "age 21\n"
     ]
    }
   ],
   "source": [
    "## iterating over nested dictionary\n",
    "for student_id,student_info in students.items():\n",
    "    print(student_id,student_info)\n",
    "    for key,value in student_info.items():\n",
    "        print(key,value)"
   ]
  },
  {
   "cell_type": "code",
   "execution_count": 6,
   "metadata": {},
   "outputs": [
    {
     "name": "stdout",
     "output_type": "stream",
     "text": [
      "{0: 0, 1: 1, 2: 4, 3: 9, 4: 16}\n"
     ]
    }
   ],
   "source": [
    "## dictionary comprehension\n",
    "squares={x:x*x for x in range(5) }\n",
    "print(squares)"
   ]
  },
  {
   "cell_type": "code",
   "execution_count": 7,
   "metadata": {},
   "outputs": [
    {
     "name": "stdout",
     "output_type": "stream",
     "text": [
      "{0: 0, 2: 4, 4: 16, 6: 36, 8: 64}\n"
     ]
    }
   ],
   "source": [
    "## conditional dictionary comprehension\n",
    "evens={x:x**2 for x in range(10) if x%2==0}\n",
    "print(evens)"
   ]
  },
  {
   "cell_type": "code",
   "execution_count": 11,
   "metadata": {},
   "outputs": [
    {
     "name": "stdout",
     "output_type": "stream",
     "text": [
      "{1: 2, 2: 2, 3: 2, 4: 3, 5: 4, 6: 2}\n"
     ]
    }
   ],
   "source": [
    "##Practical examples\n",
    "## use a dictinary to count the freq of elements in a list\n",
    "number=[1,2,3,4,2,3,4,4,5,5,5,5,6,6,1]\n",
    "unique={}\n",
    "for i in number:\n",
    "    if(i in unique.keys()):\n",
    "        unique[i]+=1\n",
    "    else:\n",
    "        unique[i]=1\n",
    "print(unique)"
   ]
  },
  {
   "cell_type": "code",
   "execution_count": 15,
   "metadata": {},
   "outputs": [
    {
     "data": {
      "text/plain": [
       "{'name': 'abhi', 'num': 1, 'age': 21}"
      ]
     },
     "execution_count": 15,
     "metadata": {},
     "output_type": "execute_result"
    }
   ],
   "source": [
    "## merge two dictionary\n",
    "dict1={\n",
    "   \"name\":\"krish\",\n",
    "   \"num\":1\n",
    "}\n",
    "dict2={\n",
    "    \"name\":\"abhi\",\n",
    "    \"age\":21\n",
    "}\n",
    "merge={**dict1,**dict2}\n",
    "merge"
   ]
  },
  {
   "cell_type": "code",
   "execution_count": null,
   "metadata": {},
   "outputs": [],
   "source": []
  },
  {
   "cell_type": "code",
   "execution_count": null,
   "metadata": {},
   "outputs": [],
   "source": []
  },
  {
   "cell_type": "code",
   "execution_count": null,
   "metadata": {},
   "outputs": [],
   "source": []
  },
  {
   "cell_type": "code",
   "execution_count": null,
   "metadata": {},
   "outputs": [],
   "source": []
  },
  {
   "cell_type": "code",
   "execution_count": null,
   "metadata": {},
   "outputs": [],
   "source": []
  },
  {
   "cell_type": "code",
   "execution_count": null,
   "metadata": {},
   "outputs": [],
   "source": []
  },
  {
   "cell_type": "code",
   "execution_count": null,
   "metadata": {},
   "outputs": [],
   "source": []
  },
  {
   "cell_type": "code",
   "execution_count": null,
   "metadata": {},
   "outputs": [],
   "source": []
  },
  {
   "cell_type": "code",
   "execution_count": null,
   "metadata": {},
   "outputs": [],
   "source": []
  },
  {
   "cell_type": "code",
   "execution_count": null,
   "metadata": {},
   "outputs": [],
   "source": []
  },
  {
   "cell_type": "code",
   "execution_count": null,
   "metadata": {},
   "outputs": [],
   "source": []
  },
  {
   "cell_type": "code",
   "execution_count": null,
   "metadata": {},
   "outputs": [],
   "source": []
  },
  {
   "cell_type": "code",
   "execution_count": null,
   "metadata": {},
   "outputs": [],
   "source": []
  },
  {
   "cell_type": "code",
   "execution_count": null,
   "metadata": {},
   "outputs": [],
   "source": []
  },
  {
   "cell_type": "code",
   "execution_count": null,
   "metadata": {},
   "outputs": [],
   "source": []
  },
  {
   "cell_type": "code",
   "execution_count": null,
   "metadata": {},
   "outputs": [],
   "source": []
  },
  {
   "cell_type": "code",
   "execution_count": null,
   "metadata": {},
   "outputs": [],
   "source": []
  },
  {
   "cell_type": "code",
   "execution_count": null,
   "metadata": {},
   "outputs": [],
   "source": []
  },
  {
   "cell_type": "code",
   "execution_count": null,
   "metadata": {},
   "outputs": [],
   "source": []
  },
  {
   "cell_type": "code",
   "execution_count": null,
   "metadata": {},
   "outputs": [],
   "source": []
  },
  {
   "cell_type": "code",
   "execution_count": null,
   "metadata": {},
   "outputs": [],
   "source": []
  },
  {
   "cell_type": "code",
   "execution_count": null,
   "id": "a4a78909",
   "metadata": {},
   "outputs": [],
   "source": []
  },
  {
   "cell_type": "code",
   "execution_count": null,
   "id": "67b6c28b",
   "metadata": {},
   "outputs": [],
   "source": []
  }
 ],
 "metadata": {
  "kernelspec": {
   "display_name": "Python 3",
   "language": "python",
   "name": "python3"
  },
  "language_info": {
   "codemirror_mode": {
    "name": "ipython",
    "version": 3
   },
   "file_extension": ".py",
   "mimetype": "text/x-python",
   "name": "python",
   "nbconvert_exporter": "python",
   "pygments_lexer": "ipython3",
   "version": "3.13.5"
  }
 },
 "nbformat": 4,
 "nbformat_minor": 5
}
