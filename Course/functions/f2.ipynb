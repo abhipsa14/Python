{
 "cells": [
  {
   "cell_type": "markdown",
   "id": "47302315",
   "metadata": {},
   "source": [
    "1. temperature conversion"
   ]
  },
  {
   "cell_type": "code",
   "execution_count": 4,
   "id": "93ddf167",
   "metadata": {},
   "outputs": [],
   "source": [
    "def convert_temp(temp,unit):\n",
    "    \"\"\"This is a function to convert temperature celsius and fahrenheit\"\"\"\n",
    "    if unit=='C':\n",
    "        return temp*9/5+32\n",
    "    elif unit=='F':\n",
    "        return temp*5/9-32\n",
    "    else:\n",
    "        return None"
   ]
  },
  {
   "cell_type": "code",
   "execution_count": 6,
   "id": "f60b74ce",
   "metadata": {},
   "outputs": [
    {
     "data": {
      "text/plain": [
       "89.6"
      ]
     },
     "execution_count": 6,
     "metadata": {},
     "output_type": "execute_result"
    }
   ],
   "source": [
    "convert_temp(0,'F')\n",
    "convert_temp(32,'C')"
   ]
  },
  {
   "cell_type": "markdown",
   "id": "ec97df7d",
   "metadata": {},
   "source": [
    "2. Password strength checker"
   ]
  },
  {
   "cell_type": "code",
   "execution_count": 7,
   "metadata": {},
   "outputs": [
    {
     "name": "stdout",
     "output_type": "stream",
     "text": [
      "False\n",
      "True\n"
     ]
    }
   ],
   "source": [
    "def is_strong_password(password):\n",
    "    \"\"\"This function checks if a password is strong or not\"\"\"\n",
    "    if len(password)<8:\n",
    "        return False\n",
    "    if not any(char.isdigit() for char in password):\n",
    "        return False\n",
    "    if not any(char.islower() for char in password):\n",
    "        return False\n",
    "    if not any(char.isupper() for char in password):\n",
    "        return False\n",
    "    if not any(char in '!@#$%^&*()_+' for char in password):\n",
    "        return False\n",
    "    return True\n",
    "## calling \n",
    "print(is_strong_password(\"weakpwD\"))\n",
    "print(is_strong_password(\"Stron!123\"))\n",
    "    "
   ]
  },
  {
   "cell_type": "markdown",
   "id": "06594c5f",
   "metadata": {},
   "source": [
    "3. calculate total cost of items in a shopping cart"
   ]
  },
  {
   "cell_type": "code",
   "execution_count": 11,
   "metadata": {},
   "outputs": [
    {
     "name": "stdout",
     "output_type": "stream",
     "text": [
      "6.3\n"
     ]
    }
   ],
   "source": [
    "def calculate_total_cost(cart):\n",
    "    total_cost=0\n",
    "    for item in cart:\n",
    "        total_cost+=item['price']*item['quantity']\n",
    "    return total_cost\n",
    "cart=[\n",
    "    {'name':'Apple','price':0.5,'quantity':4},\n",
    "    {'name':'Banana','price':0.3,'quantity':6},\n",
    "    {'name':'Orange','price':0.5,'quantity':5}\n",
    "]\n",
    "## calling fucntion\n",
    "total_cost=calculate_total_cost(cart)\n",
    "print(total_cost)"
   ]
  },
  {
   "cell_type": "markdown",
   "id": "81f44acf",
   "metadata": {},
   "source": [
    "4. check if a string is palindrome"
   ]
  },
  {
   "cell_type": "code",
   "execution_count": 28,
   "metadata": {},
   "outputs": [
    {
     "name": "stdout",
     "output_type": "stream",
     "text": [
      "Yes\n",
      "No\n",
      "No\n"
     ]
    },
    {
     "data": {
      "text/plain": [
       "'\\ns=s.lower().replace(\" \",\"\")\\nreturn s==s[::-1]'"
      ]
     },
     "execution_count": 28,
     "metadata": {},
     "output_type": "execute_result"
    }
   ],
   "source": [
    "def is_palindrome(word):\n",
    "    if(word[::1]==word[::-1]):\n",
    "        print(\"Yes\")\n",
    "    else:\n",
    "        print(\"No\")\n",
    "## not able to handle uppercase values\n",
    "## calling\n",
    "is_palindrome(\"kannak\")\n",
    "is_palindrome(\"anshi\")\n",
    "is_palindrome(\"a man a plan a canal panama\")\n",
    "\n",
    "\"\"\"\n",
    "s=s.lower().replace(\" \",\"\")\n",
    "return s==s[::-1]\"\"\""
   ]
  },
  {
   "cell_type": "markdown",
   "id": "3ead1f13",
   "metadata": {},
   "source": [
    "5. calculate the factorial of a number using recursion"
   ]
  },
  {
   "cell_type": "code",
   "execution_count": 29,
   "metadata": {},
   "outputs": [],
   "source": [
    "def fact(n):\n",
    "    if n==0:\n",
    "        return 1\n",
    "    else:\n",
    "        return n*fact(n-1)\n",
    "    "
   ]
  },
  {
   "cell_type": "code",
   "execution_count": null,
   "metadata": {},
   "outputs": [
    {
     "data": {
      "text/plain": [
       "6"
      ]
     },
     "execution_count": 30,
     "metadata": {},
     "output_type": "execute_result"
    }
   ],
   "source": [
    "fact(3)"
   ]
  },
  {
   "cell_type": "markdown",
   "id": "71fef9df",
   "metadata": {},
   "source": [
    "6. a function to read a file and count the frequency of each word"
   ]
  },
  {
   "cell_type": "code",
   "execution_count": 1,
   "metadata": {},
   "outputs": [
    {
     "name": "stdout",
     "output_type": "stream",
     "text": [
      "{'hi': 1, 'my': 1, 'name': 1, 'is': 1, 'abhipsa': 1, 'i': 1, 'am': 1, 'fine': 1, 'how': 1, 'are': 1, 'you': 1}\n"
     ]
    }
   ],
   "source": [
    "def count_word_freq(file_path):\n",
    "    word_count={}\n",
    "    with open(file_path,'r') as f:\n",
    "        for line in f:\n",
    "            words=line.split()\n",
    "            for word in words:\n",
    "                word=word.lower().strip('.,!?;:\"\\'')\n",
    "                word_count[word]=word_count.get(word,0)+1\n",
    "    return word_count\n",
    "\n",
    "## calling\n",
    "filepath='sample.txt'\n",
    "word_frequency=count_word_freq(filepath)\n",
    "print(word_frequency)"
   ]
  },
  {
   "cell_type": "markdown",
   "id": "bd9d8c47",
   "metadata": {},
   "source": [
    "7. validate email address"
   ]
  },
  {
   "cell_type": "code",
   "execution_count": 3,
   "metadata": {},
   "outputs": [
    {
     "name": "stdout",
     "output_type": "stream",
     "text": [
      "<re.Match object; span=(0, 16), match='test@example.com'>\n",
      "None\n"
     ]
    }
   ],
   "source": [
    "import re\n",
    "def emailverification(email):\n",
    "    pattern = r'^[a-zA0-9_.+-]+@[a-zA-Z0-9-]+\\.[a-zA-Z0-9-.]+$'\n",
    "    return re.match(pattern,email)\n",
    "## calling the function\n",
    "print(emailverification(\"test@example.com\"))\n",
    "print(emailverification(\"index-mail\"))"
   ]
  }
 ],
 "metadata": {
  "kernelspec": {
   "display_name": "Python 3",
   "language": "python",
   "name": "python3"
  },
  "language_info": {
   "codemirror_mode": {
    "name": "ipython",
    "version": 3
   },
   "file_extension": ".py",
   "mimetype": "text/x-python",
   "name": "python",
   "nbconvert_exporter": "python",
   "pygments_lexer": "ipython3",
   "version": "3.13.5"
  }
 },
 "nbformat": 4,
 "nbformat_minor": 5
}
