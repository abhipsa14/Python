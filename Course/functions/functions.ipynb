{
 "cells": [
  {
   "cell_type": "markdown",
   "id": "285afb23",
   "metadata": {},
   "source": [
    "Lambda functions are small anonymous functions defined using the lambda keyword. they can have any number of arguements but only one expression. they are commonly used for short operations or as arguements to higher-order funtions."
   ]
  },
  {
   "cell_type": "code",
   "execution_count": null,
   "id": "d88ed0b0",
   "metadata": {},
   "outputs": [
    {
     "data": {
      "text/plain": [
       "<function __main__.<lambda>(arguements)>"
      ]
     },
     "execution_count": 1,
     "metadata": {},
     "output_type": "execute_result"
    }
   ],
   "source": [
    "## syntax\n",
    "## lambda arguements: expression"
   ]
  },
  {
   "cell_type": "code",
   "execution_count": 2,
   "id": "f50bf42a",
   "metadata": {},
   "outputs": [],
   "source": [
    "def addition(a,b):\n",
    "    return a+b"
   ]
  },
  {
   "cell_type": "code",
   "execution_count": 3,
   "id": "266eb6ff",
   "metadata": {},
   "outputs": [
    {
     "name": "stdout",
     "output_type": "stream",
     "text": [
      "11\n"
     ]
    }
   ],
   "source": [
    "add = lambda a,b:a+b\n",
    "print(add(5,6))"
   ]
  },
  {
   "cell_type": "code",
   "execution_count": 4,
   "id": "70c7d359",
   "metadata": {},
   "outputs": [
    {
     "data": {
      "text/plain": [
       "True"
      ]
     },
     "execution_count": 4,
     "metadata": {},
     "output_type": "execute_result"
    }
   ],
   "source": [
    "def even(num):\n",
    "    if(num%2==0):\n",
    "        return True\n",
    "even(24)"
   ]
  },
  {
   "cell_type": "code",
   "execution_count": 5,
   "id": "4d24a359",
   "metadata": {},
   "outputs": [
    {
     "data": {
      "text/plain": [
       "False"
      ]
     },
     "execution_count": 5,
     "metadata": {},
     "output_type": "execute_result"
    }
   ],
   "source": [
    "even1 = lambda n:n%2==0\n",
    "even1(3)"
   ]
  },
  {
   "cell_type": "code",
   "execution_count": 6,
   "id": "43a154f4",
   "metadata": {},
   "outputs": [
    {
     "data": {
      "text/plain": [
       "12"
      ]
     },
     "execution_count": 6,
     "metadata": {},
     "output_type": "execute_result"
    }
   ],
   "source": [
    "def addition(x,y,z):\n",
    "    return x+y+z\n",
    "addition(3,4,5)"
   ]
  },
  {
   "cell_type": "code",
   "execution_count": 7,
   "id": "7ac192a0",
   "metadata": {},
   "outputs": [
    {
     "data": {
      "text/plain": [
       "9"
      ]
     },
     "execution_count": 7,
     "metadata": {},
     "output_type": "execute_result"
    }
   ],
   "source": [
    "addition1=lambda x,y,z: x+y+z\n",
    "addition1(2,3,4)"
   ]
  },
  {
   "cell_type": "code",
   "execution_count": 8,
   "id": "83423cfe",
   "metadata": {},
   "outputs": [
    {
     "data": {
      "text/plain": [
       "4"
      ]
     },
     "execution_count": 8,
     "metadata": {},
     "output_type": "execute_result"
    }
   ],
   "source": [
    "## map function\n",
    "numbers=[1,2,3,4]\n",
    "def square(number):\n",
    "    return number**2\n",
    "square(2)"
   ]
  },
  {
   "cell_type": "code",
   "execution_count": 9,
   "id": "a6235a04",
   "metadata": {},
   "outputs": [
    {
     "data": {
      "text/plain": [
       "[1, 4, 9, 16]"
      ]
     },
     "execution_count": 9,
     "metadata": {},
     "output_type": "execute_result"
    }
   ],
   "source": [
    "list(map(lambda x:x**2,numbers))"
   ]
  },
  {
   "cell_type": "markdown",
   "id": "cb364959",
   "metadata": {},
   "source": [
    "map() function applies a given function to all items in an input list(or any other iterable) and returns a map object (an iterator). this is particulary useful for transforming data in a list comprehensively."
   ]
  },
  {
   "cell_type": "code",
   "execution_count": 10,
   "id": "beed3cd0",
   "metadata": {},
   "outputs": [],
   "source": [
    "def square(c):\n",
    "    return c*c"
   ]
  },
  {
   "cell_type": "code",
   "execution_count": 15,
   "id": "b2db3ad7",
   "metadata": {},
   "outputs": [
    {
     "data": {
      "text/plain": [
       "9"
      ]
     },
     "execution_count": 15,
     "metadata": {},
     "output_type": "execute_result"
    }
   ],
   "source": [
    "square(3)"
   ]
  },
  {
   "cell_type": "code",
   "execution_count": 16,
   "id": "baa2f04f",
   "metadata": {},
   "outputs": [
    {
     "data": {
      "text/plain": [
       "[1, 4, 9, 16, 25]"
      ]
     },
     "execution_count": 16,
     "metadata": {},
     "output_type": "execute_result"
    }
   ],
   "source": [
    "numbers=[1,2,3,4,5]\n",
    "list(map(square,numbers))"
   ]
  },
  {
   "cell_type": "code",
   "execution_count": 17,
   "id": "6062880e",
   "metadata": {},
   "outputs": [
    {
     "data": {
      "text/plain": [
       "[1, 4, 9, 16]"
      ]
     },
     "execution_count": 17,
     "metadata": {},
     "output_type": "execute_result"
    }
   ],
   "source": [
    "## lambda function with map\n",
    "numbers=[1,2,3,4]\n",
    "list(map(lambda x:x*x,numbers))"
   ]
  },
  {
   "cell_type": "code",
   "execution_count": 18,
   "id": "7ebd5143",
   "metadata": {},
   "outputs": [
    {
     "name": "stdout",
     "output_type": "stream",
     "text": [
      "[5, 7, 9]\n"
     ]
    }
   ],
   "source": [
    "## map multiple iterables\n",
    "number1=[1,2,3]\n",
    "number2=[4,5,6]\n",
    "added_numbers=list(map(lambda x,y:x+y,number1,number2))\n",
    "print(added_numbers)"
   ]
  },
  {
   "cell_type": "code",
   "execution_count": 19,
   "id": "6b144fe1",
   "metadata": {},
   "outputs": [
    {
     "name": "stdout",
     "output_type": "stream",
     "text": [
      "[1, 2, 3, 4]\n"
     ]
    }
   ],
   "source": [
    "## map() to convert a lsit of strings to integers\n",
    "## use map to convert strings to integers\n",
    "str_numbers=['1','2','3','4']\n",
    "int_nummbers=list(map(int,str_numbers))\n",
    "print(int_nummbers)"
   ]
  },
  {
   "cell_type": "code",
   "execution_count": 20,
   "id": "a5f5e61e",
   "metadata": {},
   "outputs": [
    {
     "name": "stdout",
     "output_type": "stream",
     "text": [
      "['APPLE', 'BANANA', 'CHERRY']\n"
     ]
    }
   ],
   "source": [
    "words=['apple','banana','cherry']\n",
    "upper_word=list(map(str.upper,words))\n",
    "print(upper_word)"
   ]
  },
  {
   "cell_type": "code",
   "execution_count": 23,
   "id": "99290cba",
   "metadata": {},
   "outputs": [
    {
     "data": {
      "text/plain": [
       "['krish', 'jack']"
      ]
     },
     "execution_count": 23,
     "metadata": {},
     "output_type": "execute_result"
    }
   ],
   "source": [
    "def get_name(person):\n",
    "    return person['name']\n",
    "people=[\n",
    "    {'name':'krish','age':32},\n",
    "    {'name':'jack','age':33}\n",
    "]\n",
    "list(map(get_name,people))"
   ]
  },
  {
   "cell_type": "markdown",
   "id": "c9693a2c",
   "metadata": {},
   "source": [
    "conculsion\n",
    "it is a powerful tool for applying transformations to iterable data structures. it can be used with regular functions, lambda functions and even multiple iterables, providing a versatile approach to data processing in python."
   ]
  },
  {
   "cell_type": "markdown",
   "id": "ee5cae39",
   "metadata": {},
   "source": [
    "filter function in python\n",
    "it constructs an iterator from elements of an iterable for which a function returns true. it is used to filter out items from a list(or anyother iterable) based on a condition."
   ]
  },
  {
   "cell_type": "code",
   "execution_count": 24,
   "id": "153982f1",
   "metadata": {},
   "outputs": [],
   "source": [
    "def even(num):\n",
    "    if num%2==0:\n",
    "        return True"
   ]
  },
  {
   "cell_type": "code",
   "execution_count": 25,
   "id": "d8d39428",
   "metadata": {},
   "outputs": [
    {
     "data": {
      "text/plain": [
       "True"
      ]
     },
     "execution_count": 25,
     "metadata": {},
     "output_type": "execute_result"
    }
   ],
   "source": [
    "even(24)"
   ]
  },
  {
   "cell_type": "code",
   "execution_count": 26,
   "id": "942d9a37",
   "metadata": {},
   "outputs": [],
   "source": [
    "lst=[1,2,3,3,4,6,7,8,10,34]"
   ]
  },
  {
   "cell_type": "code",
   "execution_count": 28,
   "id": "30b586c3",
   "metadata": {},
   "outputs": [
    {
     "data": {
      "text/plain": [
       "[2, 4, 6, 8, 10, 34]"
      ]
     },
     "execution_count": 28,
     "metadata": {},
     "output_type": "execute_result"
    }
   ],
   "source": [
    "list(filter(even,lst))"
   ]
  },
  {
   "cell_type": "code",
   "execution_count": 29,
   "id": "b40f2737",
   "metadata": {},
   "outputs": [
    {
     "name": "stdout",
     "output_type": "stream",
     "text": [
      "[9, 9, 28]\n"
     ]
    }
   ],
   "source": [
    "## filter with a lambda function\n",
    "numbers=[1,2,3,4,9,9,28,3,4]\n",
    "greater_than_five=list(filter(lambda x:x>5,numbers))\n",
    "print(greater_than_five)"
   ]
  },
  {
   "cell_type": "code",
   "execution_count": 31,
   "id": "16841498",
   "metadata": {},
   "outputs": [
    {
     "data": {
      "text/plain": [
       "[6]"
      ]
     },
     "execution_count": 31,
     "metadata": {},
     "output_type": "execute_result"
    }
   ],
   "source": [
    "## filter with lambda functions and multiple condition\n",
    "numbers=[1,2,3,4,5,6,7]\n",
    "even_and_greater_than_five=list(filter(lambda x:x>5 and x%2==0,numbers))\n",
    "even_and_greater_than_five"
   ]
  },
  {
   "cell_type": "code",
   "execution_count": 37,
   "id": "9ce9403c",
   "metadata": {},
   "outputs": [],
   "source": [
    "## filter() to check if the age is greater than 25 in dictionaries\n",
    "people=[\n",
    "    {'name':'krish','age':32},\n",
    "    {'name':'abhi','age':21},\n",
    "     {'name':'hina','age':27}\n",
    "]"
   ]
  },
  {
   "cell_type": "code",
   "execution_count": 38,
   "id": "952415bf",
   "metadata": {},
   "outputs": [],
   "source": [
    "def age_greater(person):\n",
    "    return person['age']>25"
   ]
  },
  {
   "cell_type": "code",
   "execution_count": 39,
   "id": "9dbbfa5d",
   "metadata": {},
   "outputs": [
    {
     "data": {
      "text/plain": [
       "[{'name': 'krish', 'age': 32}, {'name': 'hina', 'age': 27}]"
      ]
     },
     "execution_count": 39,
     "metadata": {},
     "output_type": "execute_result"
    }
   ],
   "source": [
    "list(filter(age_greater,people))"
   ]
  },
  {
   "cell_type": "markdown",
   "id": "0dc5d172",
   "metadata": {},
   "source": [
    "filter() function is a powerful tool for creating iterators that filter items out of an iterable based on a function. it is commonly used for data cleaning, filtering objects, and removing unwanted elements from lists."
   ]
  }
 ],
 "metadata": {
  "kernelspec": {
   "display_name": "Python 3",
   "language": "python",
   "name": "python3"
  },
  "language_info": {
   "codemirror_mode": {
    "name": "ipython",
    "version": 3
   },
   "file_extension": ".py",
   "mimetype": "text/x-python",
   "name": "python",
   "nbconvert_exporter": "python",
   "pygments_lexer": "ipython3",
   "version": "3.13.5"
  }
 },
 "nbformat": 4,
 "nbformat_minor": 5
}
