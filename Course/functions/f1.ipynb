{
 "cells": [
  {
   "cell_type": "markdown",
   "id": "b5394b93",
   "metadata": {},
   "source": [
    "Functions: a block of code that perform a specific task. it helps in organizing code, reusing code, and improving readibility."
   ]
  },
  {
   "cell_type": "code",
   "execution_count": 1,
   "id": "699542c2",
   "metadata": {},
   "outputs": [],
   "source": [
    "## syntax\n",
    "def function_name(parameters):\n",
    "    \"\"\"Docstring\"\"\"\n",
    "    #function body\n",
    "    return expression"
   ]
  },
  {
   "cell_type": "code",
   "execution_count": 2,
   "id": "786f40dc",
   "metadata": {},
   "outputs": [
    {
     "name": "stdout",
     "output_type": "stream",
     "text": [
      "the number is even.\n"
     ]
    }
   ],
   "source": [
    "## why functions\n",
    "num=24\n",
    "if num%2==0:\n",
    "    print(\"the number is even.\")\n",
    "else:\n",
    "    print(\"the number is odd.\")"
   ]
  },
  {
   "cell_type": "code",
   "execution_count": 3,
   "id": "8ad85afa",
   "metadata": {},
   "outputs": [],
   "source": [
    "def even_or_odd(num):\n",
    "    \"\"\"this function finds even or odd\"\"\"\n",
    "    if num%2==0:\n",
    "        print(\"The number is even\")\n",
    "    else:\n",
    "        print(\"The number is odd.\")"
   ]
  },
  {
   "cell_type": "code",
   "execution_count": 4,
   "id": "28ac04ce",
   "metadata": {},
   "outputs": [
    {
     "name": "stdout",
     "output_type": "stream",
     "text": [
      "The number is even\n"
     ]
    }
   ],
   "source": [
    "## call this function\n",
    "even_or_odd(24)"
   ]
  },
  {
   "cell_type": "code",
   "execution_count": 5,
   "id": "46fc504d",
   "metadata": {},
   "outputs": [
    {
     "name": "stdout",
     "output_type": "stream",
     "text": [
      "6\n"
     ]
    }
   ],
   "source": [
    "### function with multiple parameters\n",
    "def add(a,b):\n",
    "    return a+b\n",
    "result=add(2,4)\n",
    "print(result)"
   ]
  },
  {
   "cell_type": "code",
   "execution_count": 9,
   "id": "e2e21866",
   "metadata": {},
   "outputs": [
    {
     "name": "stdout",
     "output_type": "stream",
     "text": [
      "Hello Anshi, Welcome to traitos\n"
     ]
    }
   ],
   "source": [
    "## default parameters\n",
    "def greet(name=\"Guest\"):\n",
    "    print(f\"Hello {name}, Welcome to traitos\")\n",
    "greet(\"Anshi\")"
   ]
  },
  {
   "cell_type": "code",
   "execution_count": null,
   "id": "acdd2d07",
   "metadata": {},
   "outputs": [],
   "source": [
    "## variable length arguements\n",
    "## positional arguements\n",
    "## best practise is to use *args\n",
    "def print_numbers(*args):\n",
    "    for numbers in args:\n",
    "        print(numbers)"
   ]
  },
  {
   "cell_type": "code",
   "execution_count": 11,
   "id": "b93f1de4",
   "metadata": {},
   "outputs": [
    {
     "name": "stdout",
     "output_type": "stream",
     "text": [
      "1\n",
      "2\n",
      "3\n",
      "4\n",
      "5\n"
     ]
    }
   ],
   "source": [
    "print_numbers(1,2,3,4,5)"
   ]
  },
  {
   "cell_type": "code",
   "execution_count": 12,
   "id": "c4d5c32f",
   "metadata": {},
   "outputs": [],
   "source": [
    "## keyword arguments\n",
    "## key-value pairs\n",
    "def print_details(**kwargs):\n",
    "    for key,value in kwargs.items():\n",
    "        print(f\"{key}:{value}\")\n"
   ]
  },
  {
   "cell_type": "code",
   "execution_count": 14,
   "id": "b4c18e0c",
   "metadata": {},
   "outputs": [
    {
     "name": "stdout",
     "output_type": "stream",
     "text": [
      "name:abhi\n",
      "age:32\n",
      "country:india\n"
     ]
    }
   ],
   "source": [
    "print_details(name=\"abhi\",age=\"32\",country=\"india\")"
   ]
  },
  {
   "cell_type": "code",
   "execution_count": 15,
   "id": "668bf814",
   "metadata": {},
   "outputs": [],
   "source": [
    "def print_details(*args,**kwargs):\n",
    "    for val in args:\n",
    "        print(f\"positional arguements:{val}\")\n",
    "    for key,value in kwargs.items():\n",
    "        print(f\"{key}:{value}\")"
   ]
  },
  {
   "cell_type": "code",
   "execution_count": 16,
   "id": "81007ed1",
   "metadata": {},
   "outputs": [
    {
     "ename": "SyntaxError",
     "evalue": "positional argument follows keyword argument (2243508820.py, line 1)",
     "output_type": "error",
     "traceback": [
      "  \u001b[36mCell\u001b[39m\u001b[36m \u001b[39m\u001b[32mIn[16]\u001b[39m\u001b[32m, line 1\u001b[39m\n\u001b[31m    \u001b[39m\u001b[31mprint_details(name=\"abhi\",age=\"32\",1,2,3,4,\"ki\")\u001b[39m\n                                                   ^\n\u001b[31mSyntaxError\u001b[39m\u001b[31m:\u001b[39m positional argument follows keyword argument\n"
     ]
    }
   ],
   "source": [
    "print_details(name=\"abhi\",age=\"32\",1,2,3,4,\"ki\")"
   ]
  },
  {
   "cell_type": "code",
   "execution_count": 17,
   "id": "5946d03d",
   "metadata": {},
   "outputs": [
    {
     "name": "stdout",
     "output_type": "stream",
     "text": [
      "positional arguements:1\n",
      "positional arguements:2\n",
      "positional arguements:3\n",
      "positional arguements:hi\n",
      "name:kish\n",
      "age:43\n"
     ]
    }
   ],
   "source": [
    "print_details(1,2,3,\"hi\",name=\"kish\",age=\"43\")"
   ]
  },
  {
   "cell_type": "code",
   "execution_count": 18,
   "id": "7705308a",
   "metadata": {},
   "outputs": [
    {
     "data": {
      "text/plain": [
       "(6, 2)"
      ]
     },
     "execution_count": 18,
     "metadata": {},
     "output_type": "execute_result"
    }
   ],
   "source": [
    "## return multiple statement\n",
    "def multiply(a,b):\n",
    "    return a*b,a\n",
    "multiply(2,3)"
   ]
  }
 ],
 "metadata": {
  "kernelspec": {
   "display_name": "Python 3",
   "language": "python",
   "name": "python3"
  },
  "language_info": {
   "codemirror_mode": {
    "name": "ipython",
    "version": 3
   },
   "file_extension": ".py",
   "mimetype": "text/x-python",
   "name": "python",
   "nbconvert_exporter": "python",
   "pygments_lexer": "ipython3",
   "version": "3.13.5"
  }
 },
 "nbformat": 4,
 "nbformat_minor": 5
}
