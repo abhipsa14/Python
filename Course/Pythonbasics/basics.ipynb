{
 "cells": [
  {
   "cell_type": "markdown",
   "id": "f9418f78",
   "metadata": {},
   "source": [
    "### Syntax and Semantics in Python\n",
    "Video Outline:\n",
    "- Single line Comments and multiline comments \n",
    "- Definition of Syntax and Semantics\n",
    "- Basic Syntax Rules in Python\n",
    "- Understanding Semantics in Python\n",
    "- Common Syntax Errors and How to Avoid Them\n",
    "- Practical Code Examples"
   ]
  },
  {
   "cell_type": "markdown",
   "id": "6543ea8c",
   "metadata": {},
   "source": [
    "Syntax refers to the set of rules that defines the combinations of symbols that are considered to be correctly structured programs in a language. In simpler terms, syntax is about the correct arrangement of words and symbols in a code.\n",
    "\n",
    "Semantics refers to the meaning or the interpretation of the symbols, characters, and commands in a language. It is about what the code is supposed to do when it runs."
   ]
  },
  {
   "cell_type": "code",
   "execution_count": 1,
   "id": "75fe9965",
   "metadata": {},
   "outputs": [
    {
     "name": "stdout",
     "output_type": "stream",
     "text": [
      "Abhipsa\n",
      "Srivastava\n"
     ]
    }
   ],
   "source": [
    "## Basic Syntax Rules in python\n",
    "## case sensitivity - Python is case sensitive\n",
    "name=\"Abhipsa\"\n",
    "Name=\"Srivastava\"\n",
    "print(name)\n",
    "print(Name)"
   ]
  },
  {
   "cell_type": "markdown",
   "id": "c41c918d",
   "metadata": {},
   "source": [
    "Indentation\n",
    "In python, it is used to define the structure an dhierarchy of the code.\n",
    "Unlike many other programming languages that use braces{} to delimit blocks of code, Python uses indentation to determine the groupong of statements."
   ]
  },
  {
   "cell_type": "code",
   "execution_count": 3,
   "id": "e9f8a5eb",
   "metadata": {},
   "outputs": [
    {
     "name": "stdout",
     "output_type": "stream",
     "text": [
      "Adult\n",
      "End of program\n"
     ]
    }
   ],
   "source": [
    "## indentation - Python uses indentation to define blocks of code\n",
    "age=32\n",
    "if age > 18:\n",
    "    print(\"Adult\")\n",
    "else:\n",
    "    print(\"Minor\")\n",
    "print(\"End of program\")"
   ]
  },
  {
   "cell_type": "code",
   "execution_count": 4,
   "id": "8f6487db",
   "metadata": {},
   "outputs": [
    {
     "name": "stdout",
     "output_type": "stream",
     "text": [
      "Hello, World!\n"
     ]
    }
   ],
   "source": [
    "## This is single line comment.\n",
    "print(\"Hello, World!\")  # This is also a single line comment"
   ]
  },
  {
   "cell_type": "code",
   "execution_count": 5,
   "id": "39817a01",
   "metadata": {},
   "outputs": [
    {
     "name": "stdout",
     "output_type": "stream",
     "text": [
      "36\n"
     ]
    }
   ],
   "source": [
    "## Line Continuation - Use backslash to continue a line\n",
    "total=1+2+3+4+5+6+\\\n",
    "4+5+6\n",
    "print(total)"
   ]
  },
  {
   "cell_type": "code",
   "execution_count": 6,
   "id": "1c031f92",
   "metadata": {},
   "outputs": [
    {
     "data": {
      "text/plain": [
       "15"
      ]
     },
     "execution_count": 6,
     "metadata": {},
     "output_type": "execute_result"
    }
   ],
   "source": [
    "## MUltiple Statements on a single line\n",
    "x=5;y=10;z=x+y\n",
    "z"
   ]
  },
  {
   "cell_type": "code",
   "execution_count": null,
   "id": "b15a84b3",
   "metadata": {},
   "outputs": [
    {
     "data": {
      "text/plain": [
       "(int, str)"
      ]
     },
     "execution_count": 8,
     "metadata": {},
     "output_type": "execute_result"
    }
   ],
   "source": [
    "## Understand semantics in Python\n",
    "## Variable assignment\n",
    "age=32 ## age is an integer\n",
    "name=\"Abhipsa\" ## name is a string\n",
    "## Type checking\n",
    "type(age),type(name)"
   ]
  },
  {
   "cell_type": "code",
   "execution_count": 10,
   "id": "806c5ac7",
   "metadata": {},
   "outputs": [
    {
     "name": "stdout",
     "output_type": "stream",
     "text": [
      "<class 'int'>\n",
      "<class 'str'>\n"
     ]
    }
   ],
   "source": [
    "## Type INference\n",
    "x=10\n",
    "print(type(x))\n",
    "x=\"hello\"\n",
    "print(type(x))"
   ]
  },
  {
   "cell_type": "code",
   "execution_count": null,
   "id": "7b5252d6",
   "metadata": {},
   "outputs": [
    {
     "ename": "NameError",
     "evalue": "name 'b' is not defined",
     "output_type": "error",
     "traceback": [
      "\u001b[31m---------------------------------------------------------------------------\u001b[39m",
      "\u001b[31mNameError\u001b[39m                                 Traceback (most recent call last)",
      "\u001b[36mCell\u001b[39m\u001b[36m \u001b[39m\u001b[32mIn[11]\u001b[39m\u001b[32m, line 1\u001b[39m\n\u001b[32m----> \u001b[39m\u001b[32m1\u001b[39m a=\u001b[43mb\u001b[49m\n",
      "\u001b[31mNameError\u001b[39m: name 'b' is not defined"
     ]
    }
   ],
   "source": [
    "a=b ## name error"
   ]
  },
  {
   "cell_type": "code",
   "execution_count": 13,
   "id": "1e8975b8",
   "metadata": {},
   "outputs": [
    {
     "name": "stdout",
     "output_type": "stream",
     "text": [
      "This is true\n",
      "End of if block\n",
      "Outside of if block\n"
     ]
    }
   ],
   "source": [
    "## code examples of indentation\n",
    "if True:\n",
    "    print(\"This is true\")\n",
    "    if False:\n",
    "        print(\"This is false\")\n",
    "    print(\"End of if block\")\n",
    "print(\"Outside of if block\")"
   ]
  },
  {
   "cell_type": "code",
   "execution_count": null,
   "id": "065eb7cb",
   "metadata": {},
   "outputs": [],
   "source": []
  }
 ],
 "metadata": {
  "kernelspec": {
   "display_name": "Python 3",
   "language": "python",
   "name": "python3"
  },
  "language_info": {
   "codemirror_mode": {
    "name": "ipython",
    "version": 3
   },
   "file_extension": ".py",
   "mimetype": "text/x-python",
   "name": "python",
   "nbconvert_exporter": "python",
   "pygments_lexer": "ipython3",
   "version": "3.13.3"
  }
 },
 "nbformat": 4,
 "nbformat_minor": 5
}
