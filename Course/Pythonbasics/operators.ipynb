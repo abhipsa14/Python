{
 "cells": [
  {
   "cell_type": "markdown",
   "id": "4b59708b",
   "metadata": {},
   "source": [
    "1. Introduction to Operators\n",
    "2. Arithmetic Operators\n",
    "   - Addition\n",
    "   - Subtraction\n",
    "   - Multiplication\n",
    "   - Division\n",
    "   - Floor Division\n",
    "   - Modulus\n",
    "   - Exponentiation\n",
    "3. Comparison Operators\n",
    "   - Equal to\n",
    "   - Not equal to\n",
    "   - Greater than\n",
    "   - Less than\n",
    "   - Greater than or equal to \n",
    "   - Less than or equal to\n",
    "4. Logical Operators\n",
    "   - AND\n",
    "   - OR\n",
    "   - NOT\n",
    "5. Practical Examples and Common Errors"
   ]
  },
  {
   "cell_type": "code",
   "execution_count": null,
   "id": "de3c2ffa",
   "metadata": {},
   "outputs": [
    {
     "name": "stdout",
     "output_type": "stream",
     "text": [
      "15\n",
      "5\n",
      "50\n",
      "2.0\n",
      "2\n",
      "0\n",
      "100000\n"
     ]
    }
   ],
   "source": [
    "## Arithmetic operations\n",
    "a=10\n",
    "b=5\n",
    "add_result = a + b\n",
    "sub_result=a-b\n",
    "mul_result=a*b\n",
    "div_result=a/b\n",
    "floor_div_result=a//b\n",
    "mod_result=a%b ## modulus operation\n",
    "exp_result=a**b\n",
    "print(add_result)\n",
    "print(sub_result)\n",
    "print(mul_result)       \n",
    "print(div_result)\n",
    "print(floor_div_result)\n",
    "print(mod_result)\n",
    "print(exp_result)"
   ]
  },
  {
   "cell_type": "code",
   "execution_count": 4,
   "id": "019f8a5c",
   "metadata": {},
   "outputs": [
    {
     "data": {
      "text/plain": [
       "2.0"
      ]
     },
     "execution_count": 4,
     "metadata": {},
     "output_type": "execute_result"
    }
   ],
   "source": [
    "10/5"
   ]
  },
  {
   "cell_type": "code",
   "execution_count": 5,
   "id": "e2686f70",
   "metadata": {},
   "outputs": [
    {
     "data": {
      "text/plain": [
       "4.2"
      ]
     },
     "execution_count": 5,
     "metadata": {},
     "output_type": "execute_result"
    }
   ],
   "source": [
    "21/5"
   ]
  },
  {
   "cell_type": "code",
   "execution_count": 6,
   "id": "e1c8e812",
   "metadata": {},
   "outputs": [
    {
     "data": {
      "text/plain": [
       "4"
      ]
     },
     "execution_count": 6,
     "metadata": {},
     "output_type": "execute_result"
    }
   ],
   "source": [
    "21//5"
   ]
  },
  {
   "cell_type": "markdown",
   "id": "754cc550",
   "metadata": {},
   "source": [
    "Comparison"
   ]
  },
  {
   "cell_type": "code",
   "execution_count": null,
   "id": "69cce606",
   "metadata": {},
   "outputs": [
    {
     "name": "stdout",
     "output_type": "stream",
     "text": [
      "True\n"
     ]
    }
   ],
   "source": [
    "## Comparison operations\n",
    "## == Equal to\n",
    "a=10\n",
    "b=10\n",
    "result=(a==b)\n",
    "print(result)"
   ]
  },
  {
   "cell_type": "code",
   "execution_count": 8,
   "id": "e1b069dd",
   "metadata": {},
   "outputs": [
    {
     "name": "stdout",
     "output_type": "stream",
     "text": [
      "True\n"
     ]
    }
   ],
   "source": [
    "## Not equal to\n",
    "## !=\n",
    "str1=\"abhi\"\n",
    "str2=\"Abhi\"\n",
    "print(str1!=str2)"
   ]
  },
  {
   "cell_type": "code",
   "execution_count": 9,
   "id": "3e5189cb",
   "metadata": {},
   "outputs": [
    {
     "name": "stdout",
     "output_type": "stream",
     "text": [
      "True\n"
     ]
    }
   ],
   "source": [
    "## greater than\n",
    "## >\n",
    "a=10\n",
    "b=5\n",
    "result=(a>b)\n",
    "print(result)"
   ]
  },
  {
   "cell_type": "code",
   "execution_count": 10,
   "id": "945169f2",
   "metadata": {},
   "outputs": [
    {
     "name": "stdout",
     "output_type": "stream",
     "text": [
      "False\n"
     ]
    }
   ],
   "source": [
    "## less than\n",
    "## <\n",
    "a=10\n",
    "b=5 \n",
    "result=(a<b)\n",
    "print(result)"
   ]
  },
  {
   "cell_type": "code",
   "execution_count": 11,
   "id": "8a4c95e5",
   "metadata": {},
   "outputs": [
    {
     "name": "stdout",
     "output_type": "stream",
     "text": [
      "True\n"
     ]
    }
   ],
   "source": [
    "## greater than or equal to\n",
    "## >=\n",
    "number1=50\n",
    "number2=45\n",
    "print(number1>=number2)"
   ]
  },
  {
   "cell_type": "code",
   "execution_count": 13,
   "id": "3562041b",
   "metadata": {},
   "outputs": [
    {
     "name": "stdout",
     "output_type": "stream",
     "text": [
      "False\n"
     ]
    }
   ],
   "source": [
    "## less than or equal to \n",
    "## <=\n",
    "number1=50\n",
    "number2=9\n",
    "print(number1<=number2)\n"
   ]
  },
  {
   "cell_type": "markdown",
   "id": "78535c7a",
   "metadata": {},
   "source": [
    "Logical Operations"
   ]
  },
  {
   "cell_type": "code",
   "execution_count": 15,
   "id": "799db6ce",
   "metadata": {},
   "outputs": [
    {
     "name": "stdout",
     "output_type": "stream",
     "text": [
      "False\n",
      "True\n",
      "True\n"
     ]
    }
   ],
   "source": [
    "## Logical operations\n",
    "## And, not, or\n",
    "a=True\n",
    "b=False\n",
    "result1=(a and b)\n",
    "result2=(a or b)\n",
    "result3=(not b)\n",
    "print(result1)\n",
    "print(result2)\n",
    "print(result3)"
   ]
  }
 ],
 "metadata": {
  "kernelspec": {
   "display_name": "Python 3",
   "language": "python",
   "name": "python3"
  },
  "language_info": {
   "codemirror_mode": {
    "name": "ipython",
    "version": 3
   },
   "file_extension": ".py",
   "mimetype": "text/x-python",
   "name": "python",
   "nbconvert_exporter": "python",
   "pygments_lexer": "ipython3",
   "version": "3.13.3"
  }
 },
 "nbformat": 4,
 "nbformat_minor": 5
}
