{
 "cells": [
  {
   "cell_type": "markdown",
   "id": "36f73452",
   "metadata": {},
   "source": [
    " Variables\n",
    "    \"Variables are fundamental elements in programming used to store data that can be referenced and manipulated in a program. In Python, variables are created when you assign a value to them, and they do not need explicit declaration to reserve memory space. The declaration happens automatically when you assign a value to a variable.\\n\""
   ]
  },
  {
   "cell_type": "code",
   "execution_count": 1,
   "id": "ea4cad17",
   "metadata": {},
   "outputs": [],
   "source": [
    "a=100"
   ]
  },
  {
   "cell_type": "code",
   "execution_count": 2,
   "id": "e60ff938",
   "metadata": {},
   "outputs": [
    {
     "name": "stdout",
     "output_type": "stream",
     "text": [
      "Age: 32\n",
      "Height: 1.75\n",
      "Name: Abhipsa\n",
      "Is Student: True\n"
     ]
    }
   ],
   "source": [
    "## Declaring and assigning variables\n",
    "age=32\n",
    "height=1.75\n",
    "name=\"Abhipsa\"\n",
    "is_student=True\n",
    "\n",
    "# Printing variables\n",
    "print(\"Age:\", age)\n",
    "print(\"Height:\", height)\n",
    "print(\"Name:\", name)\n",
    "print(\"Is Student:\", is_student)\n"
   ]
  },
  {
   "cell_type": "code",
   "execution_count": 3,
   "id": "bfddd637",
   "metadata": {},
   "outputs": [],
   "source": [
    "## Naming conventions\n",
    "## variabl names should be descriptive\n",
    "## they must start with a letter or an '_' and contains letter, numbers and underscores\n",
    "## they are case sensitive\n",
    "\n",
    "## valid variable names\n",
    "first_name=\"abhipsa\"\n",
    "last_name=\"srivastava\""
   ]
  },
  {
   "cell_type": "code",
   "execution_count": 4,
   "id": "240de09d",
   "metadata": {},
   "outputs": [
    {
     "ename": "SyntaxError",
     "evalue": "invalid decimal literal (526034042.py, line 2)",
     "output_type": "error",
     "traceback": [
      "  \u001b[36mCell\u001b[39m\u001b[36m \u001b[39m\u001b[32mIn[4]\u001b[39m\u001b[32m, line 2\u001b[39m\n\u001b[31m    \u001b[39m\u001b[31m2age=30\u001b[39m\n    ^\n\u001b[31mSyntaxError\u001b[39m\u001b[31m:\u001b[39m invalid decimal literal\n"
     ]
    }
   ],
   "source": [
    "## invalid variable names\n",
    "2age=30\n",
    "first-name=\"abhi\""
   ]
  },
  {
   "cell_type": "code",
   "execution_count": 5,
   "id": "79fbebe9",
   "metadata": {},
   "outputs": [
    {
     "name": "stdout",
     "output_type": "stream",
     "text": [
      "abhipsa\n",
      "Abhi\n"
     ]
    }
   ],
   "source": [
    "## case-sensitivity\n",
    "FirstName=\"Abhi\"\n",
    "print(first_name)\n",
    "print(FirstName)"
   ]
  },
  {
   "cell_type": "code",
   "execution_count": 7,
   "id": "429c80b3",
   "metadata": {},
   "outputs": [
    {
     "name": "stdout",
     "output_type": "stream",
     "text": [
      "<class 'int'>\n"
     ]
    }
   ],
   "source": [
    "## Understanding variable types\n",
    "## Python is dynamically typed, meaning you don't need to declare the type of a variable explicitly.\n",
    "age=25\n",
    "height=1.65\n",
    "name=\"abhi\"\n",
    "is_student=True\n",
    "print(type(age))      # <class 'int'>"
   ]
  },
  {
   "cell_type": "code",
   "execution_count": 8,
   "id": "50a216e8",
   "metadata": {},
   "outputs": [
    {
     "name": "stdout",
     "output_type": "stream",
     "text": [
      "<class 'int'>\n",
      "25\n",
      "<class 'str'>\n"
     ]
    }
   ],
   "source": [
    "age=25\n",
    "print(type(age))      # <class 'int'>\n",
    "## type converison\n",
    "age_str = str(age)  # Convert int to str\n",
    "print(age_str)       # '25'\n",
    "print(type(age_str))  # <class 'str'>"
   ]
  },
  {
   "cell_type": "code",
   "execution_count": 9,
   "id": "e64d240c",
   "metadata": {},
   "outputs": [
    {
     "ename": "ValueError",
     "evalue": "invalid literal for int() with base 10: 'abhi'",
     "output_type": "error",
     "traceback": [
      "\u001b[31m---------------------------------------------------------------------------\u001b[39m",
      "\u001b[31mValueError\u001b[39m                                Traceback (most recent call last)",
      "\u001b[36mCell\u001b[39m\u001b[36m \u001b[39m\u001b[32mIn[9]\u001b[39m\u001b[32m, line 2\u001b[39m\n\u001b[32m      1\u001b[39m name=\u001b[33m\"\u001b[39m\u001b[33mabhi\u001b[39m\u001b[33m\"\u001b[39m\n\u001b[32m----> \u001b[39m\u001b[32m2\u001b[39m \u001b[38;5;28;43mint\u001b[39;49m\u001b[43m(\u001b[49m\u001b[43mname\u001b[49m\u001b[43m)\u001b[49m\n",
      "\u001b[31mValueError\u001b[39m: invalid literal for int() with base 10: 'abhi'"
     ]
    }
   ],
   "source": [
    "name=\"abhi\"\n",
    "int(name)"
   ]
  },
  {
   "cell_type": "code",
   "execution_count": 16,
   "id": "e7a386f8",
   "metadata": {},
   "outputs": [],
   "source": [
    "height=1.75\n",
    "type(height)  # <class 'float'>\n",
    "h=int(height)"
   ]
  },
  {
   "cell_type": "code",
   "execution_count": 17,
   "id": "1082bcdb",
   "metadata": {},
   "outputs": [
    {
     "data": {
      "text/plain": [
       "1.0"
      ]
     },
     "execution_count": 17,
     "metadata": {},
     "output_type": "execute_result"
    }
   ],
   "source": [
    "float(h)"
   ]
  },
  {
   "cell_type": "code",
   "execution_count": 18,
   "metadata": {},
   "outputs": [
    {
     "name": "stdout",
     "output_type": "stream",
     "text": [
      "10 <class 'int'>\n",
      "Hello <class 'str'>\n",
      "3.14 <class 'float'>\n"
     ]
    }
   ],
   "source": [
    "## Dynamic typing\n",
    "## Python allows the type of a variable to change as the program executes\n",
    "var=10\n",
    "print(var,type(var))\n",
    "var=\"Hello\"\n",
    "print(var,type(var))\n",
    "var=3.14\n",
    "print(var,type(var))"
   ]
  },
  {
   "cell_type": "code",
   "execution_count": 21,
   "id": "9519c3c0",
   "metadata": {},
   "outputs": [
    {
     "name": "stdout",
     "output_type": "stream",
     "text": [
      "Your age is: 12\n",
      "<class 'int'>\n"
     ]
    }
   ],
   "source": [
    "## input\n",
    "age=int(input(\"Enter your age: \"))\n",
    "print(\"Your age is:\", age)\n",
    "print(type(age))  # <class 'str'>, input returns a string"
   ]
  },
  {
   "cell_type": "code",
   "execution_count": 22,
   "id": "613f636d",
   "metadata": {},
   "outputs": [
    {
     "name": "stdout",
     "output_type": "stream",
     "text": [
      "Sum: 14.0\n",
      "Difference: 10.0\n",
      "Product: 24.0\n",
      "Quotient: 6.0\n"
     ]
    }
   ],
   "source": [
    "## simple calculator\n",
    "num1=float(input(\"Enter first number:\"))\n",
    "num2=float(input(\"Enter second number:\"))\n",
    "sum=num1+num2\n",
    "diff=num1-num2\n",
    "product=num1*num2\n",
    "quotient=num1/num2\n",
    "print(\"Sum:\", sum)\n",
    "print(\"Difference:\", diff)\n",
    "print(\"Product:\", product)\n",
    "print(\"Quotient:\", quotient)"
   ]
  },
  {
   "cell_type": "code",
   "execution_count": null,
   "id": "6f67d945",
   "metadata": {},
   "outputs": [],
   "source": []
  }
 ],
 "metadata": {
  "kernelspec": {
   "display_name": "Python 3",
   "language": "python",
   "name": "python3"
  },
  "language_info": {
   "codemirror_mode": {
    "name": "ipython",
    "version": 3
   },
   "file_extension": ".py",
   "mimetype": "text/x-python",
   "name": "python",
   "nbconvert_exporter": "python",
   "pygments_lexer": "ipython3",
   "version": "3.13.3"
  }
 },
 "nbformat": 4,
 "nbformat_minor": 5
}
