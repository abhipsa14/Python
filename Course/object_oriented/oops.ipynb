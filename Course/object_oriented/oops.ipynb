{
 "cells": [
  {
   "cell_type": "markdown",
   "id": "80fa79d0",
   "metadata": {},
   "source": [
    "Classes and Objects\n",
    "Object-Oriented Programming (OOP) is a programming paradigm that uses \"objects\" to design applications and computer programs. OOP allows for modelling real-world scenarios using classes and abjects. This lesson covers the basics of creating classes and objects"
   ]
  },
  {
   "cell_type": "code",
   "execution_count": 1,
   "id": "c5f50a41",
   "metadata": {},
   "outputs": [],
   "source": [
    "## a class is a blue print for creating objects. Attributes. methods\n",
    "class Car:\n",
    "    pass\n",
    "audi=Car()\n",
    "bmw = Car()"
   ]
  },
  {
   "cell_type": "code",
   "execution_count": 5,
   "id": "6532f458",
   "metadata": {},
   "outputs": [
    {
     "name": "stdout",
     "output_type": "stream",
     "text": [
      "<__main__.Car object at 0x7f61a813b250>\n",
      "<__main__.Car object at 0x7f61a811d550>\n"
     ]
    },
    {
     "data": {
      "text/plain": [
       "['__class__',\n",
       " '__delattr__',\n",
       " '__dict__',\n",
       " '__dir__',\n",
       " '__doc__',\n",
       " '__eq__',\n",
       " '__firstlineno__',\n",
       " '__format__',\n",
       " '__ge__',\n",
       " '__getattribute__',\n",
       " '__getstate__',\n",
       " '__gt__',\n",
       " '__hash__',\n",
       " '__init__',\n",
       " '__init_subclass__',\n",
       " '__le__',\n",
       " '__lt__',\n",
       " '__module__',\n",
       " '__ne__',\n",
       " '__new__',\n",
       " '__reduce__',\n",
       " '__reduce_ex__',\n",
       " '__repr__',\n",
       " '__setattr__',\n",
       " '__sizeof__',\n",
       " '__static_attributes__',\n",
       " '__str__',\n",
       " '__subclasshook__',\n",
       " '__weakref__']"
      ]
     },
     "execution_count": 5,
     "metadata": {},
     "output_type": "execute_result"
    }
   ],
   "source": [
    "print(bmw)\n",
    "print(audi)\n",
    "dir(audi)"
   ]
  },
  {
   "cell_type": "code",
   "execution_count": null,
   "id": "b0e8fcce",
   "metadata": {},
   "outputs": [
    {
     "name": "stdout",
     "output_type": "stream",
     "text": [
      "<__main__.Dogs object at 0x7f61a811fe00>\n",
      "bunny\n"
     ]
    }
   ],
   "source": [
    "## instance variable and methods\n",
    "## self keyword is used to help access the instance variable inside the class\n",
    "class Dogs:\n",
    "    ## constructor\n",
    "    def __init__(self,name,age):\n",
    "        self.name=name ## instance variable\n",
    "        self.age=age\n",
    "## here name and age are the property for the dog class or attributes\n",
    "## there can be methods also\n",
    "\n",
    "## creat objects\n",
    "dog1=Dogs(\"bunny\",2)\n",
    "\n",
    "print(dog1)\n",
    "print(dog1.name)"
   ]
  },
  {
   "cell_type": "code",
   "execution_count": 12,
   "id": "936746f2",
   "metadata": {},
   "outputs": [],
   "source": [
    "dog2=Dogs(\"Lucy\",3)"
   ]
  },
  {
   "cell_type": "code",
   "execution_count": 23,
   "id": "16a821cb",
   "metadata": {},
   "outputs": [],
   "source": [
    "## define a clas with instance methods\n",
    "class Dog:\n",
    "    def __init__(self, name, age):\n",
    "        self.name=name\n",
    "        self.age=age\n",
    "    # def __init__(self, birthdate):\n",
    "    #     self.birthdate=birthdate\n",
    "    def bark(self):\n",
    "        print(f\"{self.name} says woof\")"
   ]
  },
  {
   "cell_type": "code",
   "execution_count": 28,
   "id": "46462f8a",
   "metadata": {},
   "outputs": [
    {
     "name": "stdout",
     "output_type": "stream",
     "text": [
      "3\n",
      "bunny says woof\n"
     ]
    }
   ],
   "source": [
    "dog1=Dog(\"bunny\",3)\n",
    "print(dog1.age)\n",
    "dog1.bark()"
   ]
  },
  {
   "cell_type": "code",
   "execution_count": null,
   "id": "75b2472b",
   "metadata": {},
   "outputs": [],
   "source": [
    "## modelling a bank account\n",
    "# define a class for bank account\n",
    "\n",
    "class BankAccount:\n",
    "    def __init__(self,owner,manage,balance=0):\n",
    "        self.owner=owner\n",
    "        self.balance=balance\n",
    "        # manage=manage ## this does nothing in the class.\n",
    "    def deposit(self,amount):\n",
    "        self.balance+=amount\n",
    "        print(f\"{amount} is deposited and account balance is now {self.balance}\")\n",
    "    def withdraw(self, amount):\n",
    "        if amount>self.balance:\n",
    "            print(\"Insufficient funds!\")\n",
    "        else:\n",
    "            self.balance-=amount\n",
    "            print(f\"{amount} is withdrawn. new balance is {self.balance}\")\n",
    "    def get_balance(self):\n",
    "        return self.balance"
   ]
  },
  {
   "cell_type": "code",
   "execution_count": null,
   "id": "6cfd148d",
   "metadata": {},
   "outputs": [
    {
     "ename": "AttributeError",
     "evalue": "'BankAccount' object has no attribute 'manage'",
     "output_type": "error",
     "traceback": [
      "\u001b[31m---------------------------------------------------------------------------\u001b[39m",
      "\u001b[31mAttributeError\u001b[39m                            Traceback (most recent call last)",
      "\u001b[36mCell\u001b[39m\u001b[36m \u001b[39m\u001b[32mIn[50]\u001b[39m\u001b[32m, line 3\u001b[39m\n\u001b[32m      1\u001b[39m \u001b[38;5;66;03m## deposit\u001b[39;00m\n\u001b[32m      2\u001b[39m obj=BankAccount(\u001b[33m\"\u001b[39m\u001b[33mAbhipsa\u001b[39m\u001b[33m\"\u001b[39m,\u001b[32m20000\u001b[39m,\u001b[32m900\u001b[39m)\n\u001b[32m----> \u001b[39m\u001b[32m3\u001b[39m \u001b[38;5;28mprint\u001b[39m(\u001b[43mobj\u001b[49m\u001b[43m.\u001b[49m\u001b[43mmanage\u001b[49m)\n\u001b[32m      4\u001b[39m \u001b[38;5;28mprint\u001b[39m(obj.balance)\n",
      "\u001b[31mAttributeError\u001b[39m: 'BankAccount' object has no attribute 'manage'"
     ]
    }
   ],
   "source": [
    "## deposit\n",
    "obj=BankAccount(\"Abhipsa\",20000,900)\n",
    "# print(obj.manage)\n",
    "print(obj.balance)"
   ]
  },
  {
   "cell_type": "code",
   "execution_count": 33,
   "metadata": {},
   "outputs": [
    {
     "name": "stdout",
     "output_type": "stream",
     "text": [
      "3000 is deposited and account balance is now 5000\n"
     ]
    }
   ],
   "source": [
    "obj.deposit(3000)"
   ]
  },
  {
   "cell_type": "code",
   "execution_count": 34,
   "id": "61dffd99",
   "metadata": {},
   "outputs": [
    {
     "name": "stdout",
     "output_type": "stream",
     "text": [
      "300 is withdrawn. new balance is 4700\n"
     ]
    }
   ],
   "source": [
    "obj.withdraw(300)"
   ]
  },
  {
   "cell_type": "code",
   "execution_count": 36,
   "id": "25aa1f23",
   "metadata": {},
   "outputs": [
    {
     "data": {
      "text/plain": [
       "4700"
      ]
     },
     "execution_count": 36,
     "metadata": {},
     "output_type": "execute_result"
    }
   ],
   "source": [
    "obj.get_balance()"
   ]
  },
  {
   "cell_type": "code",
   "execution_count": null,
   "id": "ea314bf9",
   "metadata": {},
   "outputs": [],
   "source": []
  }
 ],
 "metadata": {
  "kernelspec": {
   "display_name": "Python 3",
   "language": "python",
   "name": "python3"
  },
  "language_info": {
   "codemirror_mode": {
    "name": "ipython",
    "version": 3
   },
   "file_extension": ".py",
   "mimetype": "text/x-python",
   "name": "python",
   "nbconvert_exporter": "python",
   "pygments_lexer": "ipython3",
   "version": "3.13.3"
  }
 },
 "nbformat": 4,
 "nbformat_minor": 5
}
