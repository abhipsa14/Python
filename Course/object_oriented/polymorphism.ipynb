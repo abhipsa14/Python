{
 "cells": [
  {
   "cell_type": "markdown",
   "id": "e8cc6868",
   "metadata": {},
   "source": [
    "Polymorphism is a core cconcept of oops that allows objets of different classes to be treated as objects of a common superclass. It provides a way to perform a single action in different forms. Polymorphism is typically achieved through method overiding and interfaces."
   ]
  },
  {
   "cell_type": "markdown",
   "id": "5ae2754e",
   "metadata": {},
   "source": [
    "Method overriding \n",
    "Allows a child class to provide a sepcific implementation of a method that is already defined in its parent class."
   ]
  },
  {
   "cell_type": "code",
   "execution_count": 2,
   "id": "30e50d1b",
   "metadata": {},
   "outputs": [],
   "source": [
    "## base class\n",
    "class Animal:\n",
    "    def speak(self):\n",
    "        return \"sound of the animal\"\n",
    "## derived class-1\n",
    "class Dog(Animal):\n",
    "    def speak(self):\n",
    "        return \"woof\"\n",
    "## derived class-2\n",
    "class Cat(Animal):\n",
    "    def speak(self):\n",
    "        return \"meow\""
   ]
  },
  {
   "cell_type": "code",
   "execution_count": 3,
   "id": "bf5500aa",
   "metadata": {},
   "outputs": [],
   "source": [
    "## function that demonstrates polymorphism\n",
    "def animal_speak(animal):\n",
    "    print(animal.speak())"
   ]
  },
  {
   "cell_type": "code",
   "execution_count": 4,
   "id": "b8a8bc3f",
   "metadata": {},
   "outputs": [
    {
     "name": "stdout",
     "output_type": "stream",
     "text": [
      "woof\n",
      "meow\n"
     ]
    }
   ],
   "source": [
    "dog=Dog()\n",
    "cat=Cat()\n",
    "print(dog.speak())\n",
    "print(cat.speak())"
   ]
  },
  {
   "cell_type": "code",
   "execution_count": 5,
   "id": "57025d3f",
   "metadata": {},
   "outputs": [
    {
     "name": "stdout",
     "output_type": "stream",
     "text": [
      "woof\n"
     ]
    }
   ],
   "source": [
    "animal_speak(dog)"
   ]
  },
  {
   "cell_type": "code",
   "execution_count": 6,
   "id": "3f7b6906",
   "metadata": {},
   "outputs": [],
   "source": [
    "## Polymorphism with functions and methods\n",
    "class Shape:\n",
    "    def area(self):\n",
    "        return \"the area of the figure\""
   ]
  },
  {
   "cell_type": "code",
   "execution_count": 7,
   "id": "36bf008c",
   "metadata": {},
   "outputs": [],
   "source": [
    "class Circle(Shape):\n",
    "    def __init__(self, radius):\n",
    "        self.radius=radius\n",
    "    def area(self):\n",
    "        return 3.14*self.radius*self.radius"
   ]
  },
  {
   "cell_type": "code",
   "execution_count": 8,
   "id": "4d8d8601",
   "metadata": {},
   "outputs": [],
   "source": [
    "class Rectangle(Shape):\n",
    "    def __init__(self,width,height):\n",
    "        self.width=width\n",
    "        self.height=height\n",
    "    def area(self):\n",
    "        return self.width*self.height\n",
    "        "
   ]
  },
  {
   "cell_type": "code",
   "execution_count": 14,
   "id": "38387afa",
   "metadata": {},
   "outputs": [],
   "source": [
    "def get_area(shape):\n",
    "    print(f\"the area is:{shape.area()}\")\n",
    "    "
   ]
  },
  {
   "cell_type": "code",
   "execution_count": 15,
   "id": "ab89bcde",
   "metadata": {},
   "outputs": [],
   "source": [
    "c1=Circle(5)\n",
    "r1=Rectangle(4,5)"
   ]
  },
  {
   "cell_type": "code",
   "execution_count": 16,
   "id": "a9dc383e",
   "metadata": {},
   "outputs": [
    {
     "name": "stdout",
     "output_type": "stream",
     "text": [
      "the area is:78.5\n"
     ]
    }
   ],
   "source": [
    "get_area(c1)"
   ]
  },
  {
   "cell_type": "code",
   "execution_count": 17,
   "id": "6ae1e10a",
   "metadata": {},
   "outputs": [
    {
     "name": "stdout",
     "output_type": "stream",
     "text": [
      "the area is:20\n"
     ]
    }
   ],
   "source": [
    "get_area(r1)"
   ]
  },
  {
   "cell_type": "markdown",
   "id": "a1b5da3b",
   "metadata": {},
   "source": [
    "Polymorphism with abstract base class\n",
    "Abstract Base Classes are used to define common methods for a group of related objects. They can enforce that derived classes implement particular methods, promoting consistency different implementations."
   ]
  },
  {
   "cell_type": "code",
   "execution_count": 18,
   "id": "49becaaa",
   "metadata": {},
   "outputs": [],
   "source": [
    "from abc import ABC, abstractmethod\n",
    "\n",
    "## define an abstract class\n",
    "class Vehicle(ABC):\n",
    "    @abstractmethod\n",
    "    def start_engine(self):\n",
    "        pass"
   ]
  },
  {
   "cell_type": "code",
   "execution_count": 19,
   "id": "1148427d",
   "metadata": {},
   "outputs": [],
   "source": [
    "## derived class-1\n",
    "class Car(Vehicle):\n",
    "    def start_engine(self):\n",
    "        return \"Car engine started\"\n",
    "## derived class-2\n",
    "class Bike(Vehicle):\n",
    "    def start_engine(self):\n",
    "        return \"Bike engine started\""
   ]
  },
  {
   "cell_type": "code",
   "execution_count": 20,
   "id": "971f4a03",
   "metadata": {},
   "outputs": [],
   "source": [
    "car1= Car()\n",
    "bike1=Bike()"
   ]
  },
  {
   "cell_type": "code",
   "execution_count": 21,
   "id": "a2d6c859",
   "metadata": {},
   "outputs": [
    {
     "data": {
      "text/plain": [
       "'Car engine started'"
      ]
     },
     "execution_count": 21,
     "metadata": {},
     "output_type": "execute_result"
    }
   ],
   "source": [
    "car1.start_engine()"
   ]
  },
  {
   "cell_type": "code",
   "execution_count": null,
   "id": "48e47a7c",
   "metadata": {},
   "outputs": [],
   "source": []
  }
 ],
 "metadata": {
  "kernelspec": {
   "display_name": "Python 3",
   "language": "python",
   "name": "python3"
  },
  "language_info": {
   "codemirror_mode": {
    "name": "ipython",
    "version": 3
   },
   "file_extension": ".py",
   "mimetype": "text/x-python",
   "name": "python",
   "nbconvert_exporter": "python",
   "pygments_lexer": "ipython3",
   "version": "3.13.5"
  }
 },
 "nbformat": 4,
 "nbformat_minor": 5
}
