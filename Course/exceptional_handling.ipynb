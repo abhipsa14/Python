{
 "cells": [
  {
   "cell_type": "markdown",
   "id": "700e233e",
   "metadata": {},
   "source": [
    "Exception handling in python allows you to handle errors gracefully and take corrective actions without stopping the execution of the program. This lesson will ocver the basic of exceptions, including how to use try except, else and finally blocks."
   ]
  },
  {
   "cell_type": "markdown",
   "id": "0a304b82",
   "metadata": {},
   "source": [
    "Exceptions are events that disrupt the normal flow of a program. They occur when an error is encountered during program execution. Common exceptions include:\n",
    "-> ZeroDivisionError: Dividing by zero\n",
    "-> FileNotFoundError: file not found\n",
    "-> ValueError: Invalid value\n",
    "-> TypeError: Invalid type"
   ]
  },
  {
   "cell_type": "code",
   "execution_count": 1,
   "id": "b5f0b249",
   "metadata": {},
   "outputs": [
    {
     "ename": "NameError",
     "evalue": "name 'b' is not defined",
     "output_type": "error",
     "traceback": [
      "\u001b[31m---------------------------------------------------------------------------\u001b[39m",
      "\u001b[31mNameError\u001b[39m                                 Traceback (most recent call last)",
      "\u001b[36mCell\u001b[39m\u001b[36m \u001b[39m\u001b[32mIn[1]\u001b[39m\u001b[32m, line 1\u001b[39m\n\u001b[32m----> \u001b[39m\u001b[32m1\u001b[39m a=\u001b[43mb\u001b[49m\n",
      "\u001b[31mNameError\u001b[39m: name 'b' is not defined"
     ]
    }
   ],
   "source": [
    "a=b"
   ]
  },
  {
   "cell_type": "code",
   "execution_count": null,
   "id": "89312650",
   "metadata": {},
   "outputs": [
    {
     "name": "stdout",
     "output_type": "stream",
     "text": [
      "The varibale has not been assigned\n"
     ]
    }
   ],
   "source": [
    "## exception try, except block\n",
    "try:\n",
    "    a=b\n",
    "except:\n",
    "    print(\"The varibale has not been assigned\")"
   ]
  },
  {
   "cell_type": "code",
   "execution_count": 3,
   "id": "43eb409b",
   "metadata": {},
   "outputs": [
    {
     "name": "stdout",
     "output_type": "stream",
     "text": [
      "name 'b' is not defined\n"
     ]
    }
   ],
   "source": [
    "## exception try, except block\n",
    "try:\n",
    "    a=b\n",
    "except NameError as ex:\n",
    "    print(ex)"
   ]
  },
  {
   "cell_type": "code",
   "execution_count": 4,
   "id": "b25a826e",
   "metadata": {},
   "outputs": [
    {
     "ename": "ZeroDivisionError",
     "evalue": "division by zero",
     "output_type": "error",
     "traceback": [
      "\u001b[31m---------------------------------------------------------------------------\u001b[39m",
      "\u001b[31mZeroDivisionError\u001b[39m                         Traceback (most recent call last)",
      "\u001b[36mCell\u001b[39m\u001b[36m \u001b[39m\u001b[32mIn[4]\u001b[39m\u001b[32m, line 1\u001b[39m\n\u001b[32m----> \u001b[39m\u001b[32m1\u001b[39m result=\u001b[32;43m1\u001b[39;49m\u001b[43m/\u001b[49m\u001b[32;43m0\u001b[39;49m\n",
      "\u001b[31mZeroDivisionError\u001b[39m: division by zero"
     ]
    }
   ],
   "source": [
    "result=1/0"
   ]
  },
  {
   "cell_type": "code",
   "execution_count": 5,
   "id": "0872de9a",
   "metadata": {},
   "outputs": [
    {
     "name": "stdout",
     "output_type": "stream",
     "text": [
      "division by zero\n"
     ]
    }
   ],
   "source": [
    "try:\n",
    "    result=1/0\n",
    "except ZeroDivisionError as ex:\n",
    "    print(ex)"
   ]
  },
  {
   "cell_type": "code",
   "execution_count": null,
   "metadata": {},
   "outputs": [
    {
     "ename": "NameError",
     "evalue": "name 'b' is not defined",
     "output_type": "error",
     "traceback": [
      "\u001b[31m---------------------------------------------------------------------------\u001b[39m",
      "\u001b[31mNameError\u001b[39m                                 Traceback (most recent call last)",
      "\u001b[36mCell\u001b[39m\u001b[36m \u001b[39m\u001b[32mIn[6]\u001b[39m\u001b[32m, line 3\u001b[39m\n\u001b[32m      1\u001b[39m \u001b[38;5;28;01mtry\u001b[39;00m:\n\u001b[32m      2\u001b[39m     result=\u001b[32m1\u001b[39m/\u001b[32m2\u001b[39m\n\u001b[32m----> \u001b[39m\u001b[32m3\u001b[39m     a=\u001b[43mb\u001b[49m\n\u001b[32m      4\u001b[39m \u001b[38;5;28;01mexcept\u001b[39;00m \u001b[38;5;167;01mZeroDivisionError\u001b[39;00m \u001b[38;5;28;01mas\u001b[39;00m ex:\n\u001b[32m      5\u001b[39m     \u001b[38;5;28mprint\u001b[39m(ex)\n",
      "\u001b[31mNameError\u001b[39m: name 'b' is not defined"
     ]
    }
   ],
   "source": [
    "try:\n",
    "    result=1/2\n",
    "    a=b ## not handled\n",
    "except ZeroDivisionError as ex:\n",
    "    print(ex)"
   ]
  },
  {
   "cell_type": "code",
   "execution_count": 8,
   "metadata": {},
   "outputs": [
    {
     "name": "stdout",
     "output_type": "stream",
     "text": [
      "name 'b' is not defined\n"
     ]
    }
   ],
   "source": [
    "try:\n",
    "    result=1/2\n",
    "    a=b\n",
    "except ZeroDivisionError as ex:\n",
    "    print(ex)\n",
    "except Exception as ex1:\n",
    "    print(ex1)"
   ]
  },
  {
   "cell_type": "code",
   "execution_count": 12,
   "metadata": {},
   "outputs": [],
   "source": [
    "try:\n",
    "    num=int(input(\"Enter a number\"))\n",
    "    result=10/num\n",
    "except ValueError:\n",
    "    print(\"This is not valid number\")\n",
    "except ZeroDivisionError:\n",
    "    print(\"Enter denominator greater than 0\")\n",
    "except Exception as ex:\n",
    "    print(ex)"
   ]
  },
  {
   "cell_type": "code",
   "execution_count": null,
   "metadata": {},
   "outputs": [
    {
     "name": "stdout",
     "output_type": "stream",
     "text": [
      "the result is 2.5\n"
     ]
    }
   ],
   "source": [
    "## try, except, else\n",
    "try:\n",
    "    num=int(input(\"Enter a number:\"))\n",
    "    result=10/num\n",
    "except ValueError:\n",
    "    print(\"enter valid number\")\n",
    "except ZeroDivisionError:\n",
    "    print(\"division by zero\")\n",
    "else: ## it will get executed only when there is no exception\n",
    "    print(f\"the result is {result}\")"
   ]
  },
  {
   "cell_type": "code",
   "execution_count": 20,
   "metadata": {},
   "outputs": [
    {
     "name": "stdout",
     "output_type": "stream",
     "text": [
      "division by zero\n",
      "execution complete\n"
     ]
    }
   ],
   "source": [
    "## try,except,else and finally\n",
    "try:\n",
    "    num=int(input(\"Enter a number:\"))\n",
    "    result=10/num\n",
    "except ValueError:\n",
    "    print(\"valid number\")\n",
    "except ZeroDivisionError:\n",
    "    print(\"division by zero\")\n",
    "else:\n",
    "    print(f\"the result is {result}\")\n",
    "finally: ## it will always executed\n",
    "    print(\"execution complete\")"
   ]
  },
  {
   "cell_type": "code",
   "execution_count": 27,
   "id": "704a92e2",
   "metadata": {},
   "outputs": [
    {
     "name": "stdout",
     "output_type": "stream",
     "text": [
      "hello\n",
      "i am abhipsa\n",
      "\n",
      "file close\n"
     ]
    }
   ],
   "source": [
    "## file handling and exception handling\n",
    "try:\n",
    "    file=open(\"examples.txt\",'r')\n",
    "    content=file.read()\n",
    "except FileNotFoundError:\n",
    "    print(\"not found\")\n",
    "else:\n",
    "    print(content)\n",
    "finally:\n",
    "    if ('file' in locals()) and (not file.closed):\n",
    "        file.close()\n",
    "        print('file close')"
   ]
  },
  {
   "cell_type": "code",
   "execution_count": 28,
   "id": "0591ad37",
   "metadata": {},
   "outputs": [
    {
     "name": "stdout",
     "output_type": "stream",
     "text": [
      "not found\n"
     ]
    }
   ],
   "source": [
    "## file handling and exception handling\n",
    "try:\n",
    "    file=open(\"examples1.txt\",'r')\n",
    "    content=file.read()\n",
    "except FileNotFoundError:\n",
    "    print(\"not found\")\n",
    "else:\n",
    "    print(content)\n",
    "finally:\n",
    "    if ('file' in locals()) and (not file.closed):\n",
    "        file.close()\n",
    "        print('file close')"
   ]
  },
  {
   "cell_type": "code",
   "execution_count": null,
   "id": "fddcd8e9",
   "metadata": {},
   "outputs": [],
   "source": []
  },
  {
   "cell_type": "code",
   "execution_count": null,
   "id": "f6a4e807",
   "metadata": {},
   "outputs": [],
   "source": []
  },
  {
   "cell_type": "code",
   "execution_count": null,
   "id": "acb9f40a",
   "metadata": {},
   "outputs": [],
   "source": []
  }
 ],
 "metadata": {
  "kernelspec": {
   "display_name": "Python 3",
   "language": "python",
   "name": "python3"
  },
  "language_info": {
   "codemirror_mode": {
    "name": "ipython",
    "version": 3
   },
   "file_extension": ".py",
   "mimetype": "text/x-python",
   "name": "python",
   "nbconvert_exporter": "python",
   "pygments_lexer": "ipython3",
   "version": "3.13.5"
  }
 },
 "nbformat": 4,
 "nbformat_minor": 5
}
