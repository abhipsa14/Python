{
 "cells": [
  {
   "cell_type": "markdown",
   "id": "c095705a",
   "metadata": {},
   "source": [
    "Operator overloading\n",
    "it allows you to define the behavior of operators for custom objects. You achieve this by overriding specfic methods in your class."
   ]
  },
  {
   "cell_type": "markdown",
   "id": "fbb2cca5",
   "metadata": {},
   "source": [
    "Common methods:\n",
    "__add__(self,other): adds two objects using the + operator\n",
    "__sub__(self, other): Subtracts two objects using the - operator\n",
    "__mul__(self, other): multiples *\n",
    "__truediv__(self,other): divides two objects using the / operator\n",
    "__eq__(self,other): checks if two objects are equal using the == operator\n",
    "__lt__(self,other): checks if one object is less than another using the < operator\n",
    "__gt__"
   ]
  },
  {
   "cell_type": "code",
   "execution_count": 2,
   "id": "4776ba25",
   "metadata": {},
   "outputs": [],
   "source": [
    "class Vector:\n",
    "    def __init__(self,x,y):\n",
    "        self.x=x\n",
    "        self.y=y\n",
    "    def __add__(self,other):\n",
    "        return Vector(self.x+other.x,self.y+other.y) ##other will be another vector\n",
    "    def __sub__(self,other):\n",
    "        return Vector(self.x-other.x,self.y-other.y)\n",
    "    def __mul__(self,other):\n",
    "        return Vector(self.x*other.x,self.y*other.y)\n",
    "    def __eq__(self,other):\n",
    "        return Vector(self.x==other.x,self.y==other.y)\n",
    "    def __repr__(self):\n",
    "        return f\"Vector({self.x},{self.y})\""
   ]
  },
  {
   "cell_type": "code",
   "execution_count": 8,
   "id": "54462ee0",
   "metadata": {},
   "outputs": [
    {
     "name": "stdout",
     "output_type": "stream",
     "text": [
      "Vector(2,3) Vector(3,3)\n",
      "Vector(5,6)\n",
      "Vector(-1,0)\n",
      "Vector(2,3) Vector(3,3) Vector(4,3)\n",
      "Vector(9,9)\n"
     ]
    }
   ],
   "source": [
    "## create objects\n",
    "v1=Vector(2,3)\n",
    "v2=Vector(3,3)\n",
    "print(v1,v2)\n",
    "print(v1+v2)\n",
    "print(v1-v2)\n",
    "v3=Vector(4,3)\n",
    "print(v1,v2,v3)\n",
    "print(v1+v2+v3)"
   ]
  },
  {
   "cell_type": "code",
   "execution_count": 23,
   "id": "82c6e4ee",
   "metadata": {},
   "outputs": [],
   "source": [
    "## overloading operation for complex numbers in python\n",
    "class Complex:\n",
    "    def __init__(self,real,imaginary):\n",
    "        self.real=real\n",
    "        self.imaginary=imaginary\n",
    "    def __add__(self, other):\n",
    "            new_real = self.real + other.real\n",
    "            new_imaginary = self.imaginary + other.imaginary\n",
    "            return Complex(new_real, new_imaginary)\n",
    "    def __repr__(self):\n",
    "        return f\"Complex {self.real},{self.imaginary}\""
   ]
  },
  {
   "cell_type": "code",
   "execution_count": 25,
   "id": "4c8f6e47",
   "metadata": {},
   "outputs": [
    {
     "name": "stdout",
     "output_type": "stream",
     "text": [
      "Complex 1,2 Complex 3,2\n",
      "Complex 4,4\n"
     ]
    }
   ],
   "source": [
    "c1=Complex(1,2)\n",
    "c2=Complex(3,2)\n",
    "print(c1,c2)\n",
    "print(c1+c2)\n"
   ]
  },
  {
   "cell_type": "code",
   "execution_count": null,
   "id": "1fc64545",
   "metadata": {},
   "outputs": [],
   "source": []
  },
  {
   "cell_type": "code",
   "execution_count": null,
   "id": "c1b06db9",
   "metadata": {},
   "outputs": [],
   "source": []
  },
  {
   "cell_type": "code",
   "execution_count": null,
   "id": "5c90f7fb",
   "metadata": {},
   "outputs": [],
   "source": []
  },
  {
   "cell_type": "code",
   "execution_count": null,
   "id": "c93a4b32",
   "metadata": {},
   "outputs": [],
   "source": []
  }
 ],
 "metadata": {
  "kernelspec": {
   "display_name": "Python 3",
   "language": "python",
   "name": "python3"
  },
  "language_info": {
   "codemirror_mode": {
    "name": "ipython",
    "version": 3
   },
   "file_extension": ".py",
   "mimetype": "text/x-python",
   "name": "python",
   "nbconvert_exporter": "python",
   "pygments_lexer": "ipython3",
   "version": "3.12.11"
  }
 },
 "nbformat": 4,
 "nbformat_minor": 5
}
